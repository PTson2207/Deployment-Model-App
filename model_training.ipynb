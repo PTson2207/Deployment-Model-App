{
  "nbformat": 4,
  "nbformat_minor": 0,
  "metadata": {
    "colab": {
      "name": "model_training.ipynb",
      "provenance": [],
      "mount_file_id": "12ZLq9TV1T7_9YaDC5GiqOHN4FtEVAQzz",
      "authorship_tag": "ABX9TyNgNt05TEfsF9ddPalxW8lo",
      "include_colab_link": true
    },
    "kernelspec": {
      "name": "python3",
      "display_name": "Python 3"
    },
    "accelerator": "GPU"
  },
  "cells": [
    {
      "cell_type": "markdown",
      "metadata": {
        "id": "view-in-github",
        "colab_type": "text"
      },
      "source": [
        "<a href=\"https://colab.research.google.com/github/PTson2207/DeploymentModel-GCP/blob/main/model_training.ipynb\" target=\"_parent\"><img src=\"https://colab.research.google.com/assets/colab-badge.svg\" alt=\"Open In Colab\"/></a>"
      ]
    },
    {
      "cell_type": "markdown",
      "metadata": {
        "id": "39c1oovB7crR"
      },
      "source": [
        "Training someone model, then deploy ...\n",
        "\n",
        "- Want: Save_model and then upload Google Storage\n",
        "- Data: From Kaggle-Food 101\n",
        "- Model(s): 10, 11, 12 classes"
      ]
    },
    {
      "cell_type": "code",
      "metadata": {
        "colab": {
          "base_uri": "https://localhost:8080/"
        },
        "id": "rI9v28rVeBdB",
        "outputId": "a23912c1-8c8d-4d3b-d139-bfacaee22db5"
      },
      "source": [
        "! nvidia-smi"
      ],
      "execution_count": null,
      "outputs": [
        {
          "output_type": "stream",
          "text": [
            "Wed Mar 24 09:38:05 2021       \n",
            "+-----------------------------------------------------------------------------+\n",
            "| NVIDIA-SMI 460.56       Driver Version: 460.32.03    CUDA Version: 11.2     |\n",
            "|-------------------------------+----------------------+----------------------+\n",
            "| GPU  Name        Persistence-M| Bus-Id        Disp.A | Volatile Uncorr. ECC |\n",
            "| Fan  Temp  Perf  Pwr:Usage/Cap|         Memory-Usage | GPU-Util  Compute M. |\n",
            "|                               |                      |               MIG M. |\n",
            "|===============================+======================+======================|\n",
            "|   0  Tesla P100-PCIE...  Off  | 00000000:00:04.0 Off |                    0 |\n",
            "| N/A   36C    P0    26W / 250W |      0MiB / 16280MiB |      0%      Default |\n",
            "|                               |                      |                  N/A |\n",
            "+-------------------------------+----------------------+----------------------+\n",
            "                                                                               \n",
            "+-----------------------------------------------------------------------------+\n",
            "| Processes:                                                                  |\n",
            "|  GPU   GI   CI        PID   Type   Process name                  GPU Memory |\n",
            "|        ID   ID                                                   Usage      |\n",
            "|=============================================================================|\n",
            "|  No running processes found                                                 |\n",
            "+-----------------------------------------------------------------------------+\n"
          ],
          "name": "stdout"
        }
      ]
    },
    {
      "cell_type": "markdown",
      "metadata": {
        "id": "ogimD5Mv9PoP"
      },
      "source": [
        "Setup some Function"
      ]
    },
    {
      "cell_type": "code",
      "metadata": {
        "id": "z__jj4Zq7PmD"
      },
      "source": [
        "# thư viện\n",
        "import numpy as np\n",
        "import pandas as pd\n",
        "import matplotlib.pyplot as plt\n",
        "import zipfile\n",
        "import tensorflow as tf\n",
        "from tensorflow import keras\n",
        "from tensorflow.keras import layers\n",
        "from tensorflow.keras.layers.experimental import preprocessing"
      ],
      "execution_count": null,
      "outputs": []
    },
    {
      "cell_type": "code",
      "metadata": {
        "id": "FWUp2zRP_GfS"
      },
      "source": [
        "# Hàm unzip dowload_data file\n",
        "\n",
        "def unzip_data(file_name):\n",
        "    zip_ref = zipfile.ZipFile(file_name, 'r')\n",
        "    zip_ref.extractall()\n",
        "    zip_ref.close()"
      ],
      "execution_count": null,
      "outputs": []
    },
    {
      "cell_type": "code",
      "metadata": {
        "id": "ExiNrsIDAcJu"
      },
      "source": [
        "# Setup dataset input\n",
        "IMG_SIZE = (224, 224)\n",
        "\n",
        "def create_data_loader(train_dir, test_dir, img_size=IMG_SIZE):\n",
        "    train_data = tf.keras.preprocessing.image_dataset_from_directory(train_dir,\n",
        "                                                                     label_mode=\"categorical\",\n",
        "                                                                     image_size=img_size)\n",
        "    \n",
        "    test_data = tf.keras.preprocessing.image_dataset_from_directory(test_dir,\n",
        "                                                                    label_mode=\"categorical\",\n",
        "                                                                    image_size=img_size)\n",
        "    return train_data, test_data"
      ],
      "execution_count": null,
      "outputs": []
    },
    {
      "cell_type": "code",
      "metadata": {
        "id": "7Y_4f-X0e6SF"
      },
      "source": [
        "data_augument = keras.Sequential([\n",
        "                                  preprocessing.RandomFlip('horizontal'),\n",
        "                                  preprocessing.RandomRotation(0.2),\n",
        "                                  preprocessing.RandomHeight(0.2),\n",
        "                                  preprocessing.RandomWidth(0.2),\n",
        "                                  preprocessing.RandomZoom(0.2),\n",
        "                                  #preprocessing.Rescaling(1./255) # cho Resnet50V2, không cần thiết với EfficientNetB0\n",
        "], name=\"data_augument\")"
      ],
      "execution_count": null,
      "outputs": []
    },
    {
      "cell_type": "code",
      "metadata": {
        "id": "XR12EEfSkd9y",
        "colab": {
          "base_uri": "https://localhost:8080/"
        },
        "outputId": "b2ef4244-f210-47e7-cf27-fc8a580ec5c5"
      },
      "source": [
        "# setup input_shape and base_model\n",
        "INPUT_SHAPE = (224, 224, 3)\n",
        "BASE_MODEL = tf.keras.applications.EfficientNetB0(include_top=False)"
      ],
      "execution_count": null,
      "outputs": [
        {
          "output_type": "stream",
          "text": [
            "Downloading data from https://storage.googleapis.com/keras-applications/efficientnetb0_notop.h5\n",
            "16711680/16705208 [==============================] - 0s 0us/step\n"
          ],
          "name": "stdout"
        }
      ]
    },
    {
      "cell_type": "code",
      "metadata": {
        "id": "OlpZhhzPlLwo"
      },
      "source": [
        "def create_model(input_shape=INPUT_SHAPE, base_model=BASE_MODEL, num_classes=10):\n",
        "    # Fine tune model\n",
        "    base_model.trainable = False\n",
        "    # tạo layers\n",
        "    inputs = layers.Input(shape=INPUT_SHAPE, name=\"input_layer\")\n",
        "    # thêm data_augument như một layer\n",
        "    x = data_augument(inputs)\n",
        "    # give model inputs (after augument) nhưng không train\n",
        "    x = base_model(x, training= False)\n",
        "    # Pool layer\n",
        "    x = layers.GlobalAveragePooling2D(name='pooling_layers')(x)\n",
        "    # put a dense layer as a out_put\n",
        "    outputs = layers.Dense(num_classes, activation='softmax', name='output_layers')(x)\n",
        "\n",
        "    # model từ input và output\n",
        "    model = keras.Model(inputs, outputs)\n",
        "\n",
        "    model.compile(loss=\"categorical_crossentropy\",\n",
        "                  optimizer=tf.keras.optimizers.Adam(),\n",
        "                  metrics=['accuracy'])\n",
        "    model.summary()\n",
        "\n",
        "    return model"
      ],
      "execution_count": null,
      "outputs": []
    },
    {
      "cell_type": "code",
      "metadata": {
        "id": "_gd_dX4NMpJE"
      },
      "source": [
        "# Hàm import ảnh và resize ảnh\n",
        "def load_and_prep_img(filename, img_shape=224, scale=False):\n",
        "    # đọc ảnh\n",
        "    img = tf.io.read_file(filename)\n",
        "    # dịch ảnh sang tensor unit8\n",
        "    img = tf.image.decode_jpeg(img)\n",
        "    # thay đổi kích thước ảnh\n",
        "    img = tf.image.resize(img, [img_shape, img_shape])\n",
        "    # đổi giá trị ảnh về giữa đoạn 0 đến 1\n",
        "    if scale:\n",
        "        return img/255\n",
        "    else:\n",
        "        return img"
      ],
      "execution_count": null,
      "outputs": []
    },
    {
      "cell_type": "markdown",
      "metadata": {
        "id": "nlZiPbfoPX5y"
      },
      "source": [
        "Download Data"
      ]
    },
    {
      "cell_type": "code",
      "metadata": {
        "colab": {
          "base_uri": "https://localhost:8080/"
        },
        "id": "Jmpjp_2iPbEw",
        "outputId": "2ecb8a44-3255-424c-d6c3-6e27e64b30a9"
      },
      "source": [
        "!wget https://storage.googleapis.com/ztm_tf_course/food_vision/10_food_classes_all_data.zip\n",
        "\n",
        "unzip_data(\"10_food_classes_all_data.zip\")"
      ],
      "execution_count": null,
      "outputs": [
        {
          "output_type": "stream",
          "text": [
            "--2021-03-24 09:38:17--  https://storage.googleapis.com/ztm_tf_course/food_vision/10_food_classes_all_data.zip\n",
            "Resolving storage.googleapis.com (storage.googleapis.com)... 173.194.79.128, 108.177.119.128, 108.177.126.128, ...\n",
            "Connecting to storage.googleapis.com (storage.googleapis.com)|173.194.79.128|:443... connected.\n",
            "HTTP request sent, awaiting response... 200 OK\n",
            "Length: 519183241 (495M) [application/zip]\n",
            "Saving to: ‘10_food_classes_all_data.zip’\n",
            "\n",
            "10_food_classes_all 100%[===================>] 495.13M   100MB/s    in 5.0s    \n",
            "\n",
            "2021-03-24 09:38:22 (98.1 MB/s) - ‘10_food_classes_all_data.zip’ saved [519183241/519183241]\n",
            "\n"
          ],
          "name": "stdout"
        }
      ]
    },
    {
      "cell_type": "code",
      "metadata": {
        "colab": {
          "base_uri": "https://localhost:8080/"
        },
        "id": "q1pm0C5rRbxf",
        "outputId": "53b1043e-7666-46e7-9ff8-765a1238707f"
      },
      "source": [
        "# có bao nhiêu ảnh trong mỗi folder ?\n",
        "import os\n",
        "\n",
        "for dirpath, dirnames, filenames in os.walk(\"10_food_classes_all_data\"):\n",
        "    print(f\"Có {len(dirnames)} thư mục con và có {len(filenames)} ảnh trong thư mục '{dirpath}'.\")"
      ],
      "execution_count": null,
      "outputs": [
        {
          "output_type": "stream",
          "text": [
            "Có 2 thư mục con và có 0 ảnh trong thư mục '10_food_classes_all_data'.\n",
            "Có 10 thư mục con và có 0 ảnh trong thư mục '10_food_classes_all_data/train'.\n",
            "Có 0 thư mục con và có 750 ảnh trong thư mục '10_food_classes_all_data/train/grilled_salmon'.\n",
            "Có 0 thư mục con và có 750 ảnh trong thư mục '10_food_classes_all_data/train/ice_cream'.\n",
            "Có 0 thư mục con và có 750 ảnh trong thư mục '10_food_classes_all_data/train/fried_rice'.\n",
            "Có 0 thư mục con và có 750 ảnh trong thư mục '10_food_classes_all_data/train/chicken_curry'.\n",
            "Có 0 thư mục con và có 750 ảnh trong thư mục '10_food_classes_all_data/train/sushi'.\n",
            "Có 0 thư mục con và có 750 ảnh trong thư mục '10_food_classes_all_data/train/chicken_wings'.\n",
            "Có 0 thư mục con và có 750 ảnh trong thư mục '10_food_classes_all_data/train/pizza'.\n",
            "Có 0 thư mục con và có 750 ảnh trong thư mục '10_food_classes_all_data/train/ramen'.\n",
            "Có 0 thư mục con và có 750 ảnh trong thư mục '10_food_classes_all_data/train/hamburger'.\n",
            "Có 0 thư mục con và có 750 ảnh trong thư mục '10_food_classes_all_data/train/steak'.\n",
            "Có 10 thư mục con và có 0 ảnh trong thư mục '10_food_classes_all_data/test'.\n",
            "Có 0 thư mục con và có 250 ảnh trong thư mục '10_food_classes_all_data/test/grilled_salmon'.\n",
            "Có 0 thư mục con và có 250 ảnh trong thư mục '10_food_classes_all_data/test/ice_cream'.\n",
            "Có 0 thư mục con và có 250 ảnh trong thư mục '10_food_classes_all_data/test/fried_rice'.\n",
            "Có 0 thư mục con và có 250 ảnh trong thư mục '10_food_classes_all_data/test/chicken_curry'.\n",
            "Có 0 thư mục con và có 250 ảnh trong thư mục '10_food_classes_all_data/test/sushi'.\n",
            "Có 0 thư mục con và có 250 ảnh trong thư mục '10_food_classes_all_data/test/chicken_wings'.\n",
            "Có 0 thư mục con và có 250 ảnh trong thư mục '10_food_classes_all_data/test/pizza'.\n",
            "Có 0 thư mục con và có 250 ảnh trong thư mục '10_food_classes_all_data/test/ramen'.\n",
            "Có 0 thư mục con và có 250 ảnh trong thư mục '10_food_classes_all_data/test/hamburger'.\n",
            "Có 0 thư mục con và có 250 ảnh trong thư mục '10_food_classes_all_data/test/steak'.\n"
          ],
          "name": "stdout"
        }
      ]
    },
    {
      "cell_type": "code",
      "metadata": {
        "id": "m1rSM8DaW1o1"
      },
      "source": [
        "# hàm tạo nhằm mục đích load lại mỗi khi chạy mới mô hình\n",
        "import datetime\n",
        "\n",
        "def create_tensorboard_callback(dir_name, experiment_name):\n",
        "    log_dir = dir_name + \"/\" + experiment_name + \"/\" + datetime.datetime.now().strftime(\"%Y%m%d-%H%M%S\")\n",
        "    tensorboard_callback = tf.keras.callbacks.TensorBoard(\n",
        "                log_dir=log_dir\n",
        "    )\n",
        "    print(f\"Lưu lại thông tin ở: {log_dir}\")\n",
        "    return tensorboard_callback"
      ],
      "execution_count": null,
      "outputs": []
    },
    {
      "cell_type": "markdown",
      "metadata": {
        "id": "4sU3aqLxYNva"
      },
      "source": [
        "    Vì ta có khả năng có thể chạy lại model nhiều lần, vì thế ta có thể theo dõi chúng theo một cách nào đó.\n",
        "    Hàm trên lưu lại nhật kí hiệu suất mô hình ở thư mục: [dir_name]/[experiment_name]/[current_timestamp]:\n",
        "    - dir_name:  thư mục lưu lại nhật kí tổng thể.\n",
        "    - experiment_name: thử nghiệm cụ thể.\n",
        "    - current_timestamp: thời gian thử nghiệm chi tiết."
      ]
    },
    {
      "cell_type": "markdown",
      "metadata": {
        "id": "4573rtDua7CT"
      },
      "source": [
        "Model 1 (10 classes)"
      ]
    },
    {
      "cell_type": "code",
      "metadata": {
        "colab": {
          "base_uri": "https://localhost:8080/"
        },
        "id": "lvz0Lgm4a-y8",
        "outputId": "1066e40f-07fd-486d-9c38-cbc1a5fb0297"
      },
      "source": [
        "train_data, test_data = create_data_loader(train_dir=\"10_food_classes_all_data/train/\",\n",
        "                                           test_dir=\"10_food_classes_all_data/test/\")"
      ],
      "execution_count": null,
      "outputs": [
        {
          "output_type": "stream",
          "text": [
            "Found 7500 files belonging to 10 classes.\n",
            "Found 2500 files belonging to 10 classes.\n"
          ],
          "name": "stdout"
        }
      ]
    },
    {
      "cell_type": "code",
      "metadata": {
        "colab": {
          "base_uri": "https://localhost:8080/"
        },
        "id": "xHigYMlTcaKl",
        "outputId": "9e56eae8-5ed7-4da1-be6b-3e6238a9c504"
      },
      "source": [
        "# xem kích cỡ dataset\n",
        "print(train_data)\n",
        "len(train_data)"
      ],
      "execution_count": null,
      "outputs": [
        {
          "output_type": "stream",
          "text": [
            "<BatchDataset shapes: ((None, 224, 224, 3), (None, 10)), types: (tf.float32, tf.float32)>\n"
          ],
          "name": "stdout"
        },
        {
          "output_type": "execute_result",
          "data": {
            "text/plain": [
              "235"
            ]
          },
          "metadata": {
            "tags": []
          },
          "execution_count": 13
        }
      ]
    },
    {
      "cell_type": "code",
      "metadata": {
        "colab": {
          "base_uri": "https://localhost:8080/"
        },
        "id": "bwqUgSBJVl1o",
        "outputId": "d9fd63be-3f4e-43ec-a106-351fa420bd2e"
      },
      "source": [
        "print(test_data)\n",
        "len(test_data)"
      ],
      "execution_count": null,
      "outputs": [
        {
          "output_type": "stream",
          "text": [
            "<BatchDataset shapes: ((None, 224, 224, 3), (None, 10)), types: (tf.float32, tf.float32)>\n"
          ],
          "name": "stdout"
        },
        {
          "output_type": "execute_result",
          "data": {
            "text/plain": [
              "79"
            ]
          },
          "metadata": {
            "tags": []
          },
          "execution_count": 14
        }
      ]
    },
    {
      "cell_type": "code",
      "metadata": {
        "colab": {
          "base_uri": "https://localhost:8080/"
        },
        "id": "nOP5zIrrchX-",
        "outputId": "ad91a7b7-5c87-4683-bd52-54e40b979ed7"
      },
      "source": [
        "# call model\n",
        "model_1 = create_model(num_classes=len(train_data.class_names))"
      ],
      "execution_count": null,
      "outputs": [
        {
          "output_type": "stream",
          "text": [
            "Model: \"model\"\n",
            "_________________________________________________________________\n",
            "Layer (type)                 Output Shape              Param #   \n",
            "=================================================================\n",
            "input_layer (InputLayer)     [(None, 224, 224, 3)]     0         \n",
            "_________________________________________________________________\n",
            "data_augument (Sequential)   (None, None, None, 3)     0         \n",
            "_________________________________________________________________\n",
            "efficientnetb0 (Functional)  (None, None, None, 1280)  4049571   \n",
            "_________________________________________________________________\n",
            "pooling_layers (GlobalAverag (None, 1280)              0         \n",
            "_________________________________________________________________\n",
            "output_layers (Dense)        (None, 10)                12810     \n",
            "=================================================================\n",
            "Total params: 4,062,381\n",
            "Trainable params: 12,810\n",
            "Non-trainable params: 4,049,571\n",
            "_________________________________________________________________\n"
          ],
          "name": "stdout"
        }
      ]
    },
    {
      "cell_type": "code",
      "metadata": {
        "colab": {
          "base_uri": "https://localhost:8080/"
        },
        "id": "SxZp8HX56r7z",
        "outputId": "c18f2b19-0556-474f-8bfb-0a5aa3cec33f"
      },
      "source": [
        "history_1_percent = model_1.fit(train_data,\n",
        "                    epochs=10,\n",
        "                    steps_per_epoch=len(train_data),\n",
        "                    validation_data=test_data,\n",
        "                    validation_steps=int(0.25 * len(test_data)),\n",
        "                    callbacks = [create_tensorboard_callback('transfer_learning', 'all_data_aug')]\n",
        "                    )"
      ],
      "execution_count": null,
      "outputs": [
        {
          "output_type": "stream",
          "text": [
            "Lưu lại thông tin ở: transfer_learning/all_data_aug/20210324-093829\n",
            "Epoch 1/10\n",
            "235/235 [==============================] - 78s 185ms/step - loss: 1.4454 - accuracy: 0.5557 - val_loss: 0.5111 - val_accuracy: 0.8405\n",
            "Epoch 2/10\n",
            "235/235 [==============================] - 37s 155ms/step - loss: 0.7227 - accuracy: 0.7760 - val_loss: 0.4532 - val_accuracy: 0.8569\n",
            "Epoch 3/10\n",
            "235/235 [==============================] - 36s 149ms/step - loss: 0.6347 - accuracy: 0.7977 - val_loss: 0.4269 - val_accuracy: 0.8520\n",
            "Epoch 4/10\n",
            "235/235 [==============================] - 34s 143ms/step - loss: 0.5766 - accuracy: 0.8224 - val_loss: 0.3844 - val_accuracy: 0.8750\n",
            "Epoch 5/10\n",
            "235/235 [==============================] - 33s 139ms/step - loss: 0.5388 - accuracy: 0.8296 - val_loss: 0.3726 - val_accuracy: 0.8750\n",
            "Epoch 6/10\n",
            "235/235 [==============================] - 32s 135ms/step - loss: 0.5089 - accuracy: 0.8445 - val_loss: 0.3819 - val_accuracy: 0.8701\n",
            "Epoch 7/10\n",
            "235/235 [==============================] - 33s 136ms/step - loss: 0.5023 - accuracy: 0.8451 - val_loss: 0.3616 - val_accuracy: 0.8717\n",
            "Epoch 8/10\n",
            "235/235 [==============================] - 32s 133ms/step - loss: 0.4765 - accuracy: 0.8513 - val_loss: 0.3352 - val_accuracy: 0.8799\n",
            "Epoch 9/10\n",
            "235/235 [==============================] - 32s 133ms/step - loss: 0.4701 - accuracy: 0.8448 - val_loss: 0.3363 - val_accuracy: 0.8849\n",
            "Epoch 10/10\n",
            "235/235 [==============================] - 31s 131ms/step - loss: 0.4499 - accuracy: 0.8562 - val_loss: 0.3237 - val_accuracy: 0.8980\n"
          ],
          "name": "stdout"
        }
      ]
    },
    {
      "cell_type": "code",
      "metadata": {
        "id": "w1csZpUtfhM2",
        "colab": {
          "base_uri": "https://localhost:8080/"
        },
        "outputId": "c0b9f74e-745e-4f31-b24e-8f47143d4088"
      },
      "source": [
        "# số lớp(labels) có thể dự đoán được.\n",
        "class_name = train_data.class_names\n",
        "class_name"
      ],
      "execution_count": null,
      "outputs": [
        {
          "output_type": "execute_result",
          "data": {
            "text/plain": [
              "['chicken_curry',\n",
              " 'chicken_wings',\n",
              " 'fried_rice',\n",
              " 'grilled_salmon',\n",
              " 'hamburger',\n",
              " 'ice_cream',\n",
              " 'pizza',\n",
              " 'ramen',\n",
              " 'steak',\n",
              " 'sushi']"
            ]
          },
          "metadata": {
            "tags": []
          },
          "execution_count": 17
        }
      ]
    },
    {
      "cell_type": "code",
      "metadata": {
        "colab": {
          "base_uri": "https://localhost:8080/"
        },
        "id": "pe4jm1m5oK2J",
        "outputId": "f76b4a6e-06f9-4652-96a8-5c5d7de8a65a"
      },
      "source": [
        "len(class_name)"
      ],
      "execution_count": null,
      "outputs": [
        {
          "output_type": "execute_result",
          "data": {
            "text/plain": [
              "10"
            ]
          },
          "metadata": {
            "tags": []
          },
          "execution_count": 33
        }
      ]
    },
    {
      "cell_type": "code",
      "metadata": {
        "colab": {
          "base_uri": "https://localhost:8080/",
          "height": 163
        },
        "id": "SB68WoS6o5tE",
        "outputId": "705dea61-3480-4a98-99f0-92967d7e791b"
      },
      "source": [
        "class_name.to_json()"
      ],
      "execution_count": null,
      "outputs": [
        {
          "output_type": "error",
          "ename": "AttributeError",
          "evalue": "ignored",
          "traceback": [
            "\u001b[0;31m---------------------------------------------------------------------------\u001b[0m",
            "\u001b[0;31mAttributeError\u001b[0m                            Traceback (most recent call last)",
            "\u001b[0;32m<ipython-input-34-817c42445a01>\u001b[0m in \u001b[0;36m<module>\u001b[0;34m()\u001b[0m\n\u001b[0;32m----> 1\u001b[0;31m \u001b[0mclass_name\u001b[0m\u001b[0;34m.\u001b[0m\u001b[0mto_json\u001b[0m\u001b[0;34m(\u001b[0m\u001b[0;34m)\u001b[0m\u001b[0;34m\u001b[0m\u001b[0;34m\u001b[0m\u001b[0m\n\u001b[0m",
            "\u001b[0;31mAttributeError\u001b[0m: 'list' object has no attribute 'to_json'"
          ]
        }
      ]
    },
    {
      "cell_type": "code",
      "metadata": {
        "colab": {
          "base_uri": "https://localhost:8080/"
        },
        "id": "gylbdcw7C1vn",
        "outputId": "d409dd22-3c2e-481b-d162-093b254aac9d"
      },
      "source": [
        "# test model\n",
        "# load ảnh\n",
        "!wget https://img-global.cpcdn.com/recipes/249855c4b55f69ca/751x532cq70/hamburger-heo-bo-nha-lam-recipe-main-photo.jpg"
      ],
      "execution_count": null,
      "outputs": [
        {
          "output_type": "stream",
          "text": [
            "--2021-03-24 09:44:47--  https://img-global.cpcdn.com/recipes/249855c4b55f69ca/751x532cq70/hamburger-heo-bo-nha-lam-recipe-main-photo.jpg\n",
            "Resolving img-global.cpcdn.com (img-global.cpcdn.com)... 151.101.2.132, 151.101.66.132, 151.101.130.132, ...\n",
            "Connecting to img-global.cpcdn.com (img-global.cpcdn.com)|151.101.2.132|:443... connected.\n",
            "HTTP request sent, awaiting response... 200 OK\n",
            "Length: 34551 (34K) [image/jpeg]\n",
            "Saving to: ‘hamburger-heo-bo-nha-lam-recipe-main-photo.jpg’\n",
            "\n",
            "hamburger-heo-bo-nh 100%[===================>]  33.74K  --.-KB/s    in 0.001s  \n",
            "\n",
            "2021-03-24 09:44:47 (50.4 MB/s) - ‘hamburger-heo-bo-nha-lam-recipe-main-photo.jpg’ saved [34551/34551]\n",
            "\n"
          ],
          "name": "stdout"
        }
      ]
    },
    {
      "cell_type": "code",
      "metadata": {
        "id": "tbsLH-cVEatH"
      },
      "source": [
        "# Xử lí lại ảnh\n",
        "hamburger_img = load_and_prep_img(\"hamburger-heo-bo-nha-lam-recipe-main-photo.jpg\")"
      ],
      "execution_count": null,
      "outputs": []
    },
    {
      "cell_type": "code",
      "metadata": {
        "colab": {
          "base_uri": "https://localhost:8080/"
        },
        "id": "V79sp9CTFh33",
        "outputId": "8e971e23-9df1-4923-c8c1-f1660cf79993"
      },
      "source": [
        "hamburger_img"
      ],
      "execution_count": null,
      "outputs": [
        {
          "output_type": "execute_result",
          "data": {
            "text/plain": [
              "<tf.Tensor: shape=(224, 224, 3), dtype=float32, numpy=\n",
              "array([[[162.55135 , 166.55135 , 167.55135 ],\n",
              "        [165.54031 , 169.54031 , 170.54031 ],\n",
              "        [163.76688 , 167.76688 , 168.76688 ],\n",
              "        ...,\n",
              "        [255.      , 255.      , 255.      ],\n",
              "        [255.      , 255.      , 255.      ],\n",
              "        [255.      , 255.      , 255.      ]],\n",
              "\n",
              "       [[167.9375  , 171.9375  , 174.9375  ],\n",
              "        [166.96693 , 170.96693 , 173.96693 ],\n",
              "        [166.9926  , 170.9926  , 173.9926  ],\n",
              "        ...,\n",
              "        [255.      , 255.      , 255.      ],\n",
              "        [255.      , 255.      , 255.      ],\n",
              "        [255.      , 255.      , 255.      ]],\n",
              "\n",
              "       [[167.07715 , 170.63965 , 174.51465 ],\n",
              "        [168.10645 , 171.66895 , 175.54395 ],\n",
              "        [168.86021 , 172.42271 , 176.29771 ],\n",
              "        ...,\n",
              "        [255.      , 255.      , 255.      ],\n",
              "        [255.      , 255.      , 255.      ],\n",
              "        [255.      , 255.      , 255.      ]],\n",
              "\n",
              "       ...,\n",
              "\n",
              "       [[101.23535 ,  96.23535 , 102.23535 ],\n",
              "        [100.529015,  95.529015, 101.529015],\n",
              "        [102.014786,  97.014786, 103.014786],\n",
              "        ...,\n",
              "        [250.      , 255.      , 255.      ],\n",
              "        [250.      , 255.      , 255.      ],\n",
              "        [250.      , 255.      , 255.      ]],\n",
              "\n",
              "       [[100.70969 ,  95.70969 , 101.70969 ],\n",
              "        [100.066124,  95.066124, 101.066124],\n",
              "        [103.61217 ,  98.61217 , 104.61217 ],\n",
              "        ...,\n",
              "        [250.      , 255.      , 255.      ],\n",
              "        [250.      , 255.      , 255.      ],\n",
              "        [250.      , 255.      , 255.      ]],\n",
              "\n",
              "       [[101.05511 ,  96.05511 , 102.05511 ],\n",
              "        [101.3125  ,  96.3125  , 102.3125  ],\n",
              "        [103.64509 ,  98.64509 , 104.64509 ],\n",
              "        ...,\n",
              "        [250.      , 255.      , 255.      ],\n",
              "        [250.      , 255.      , 255.      ],\n",
              "        [250.      , 255.      , 255.      ]]], dtype=float32)>"
            ]
          },
          "metadata": {
            "tags": []
          },
          "execution_count": 20
        }
      ]
    },
    {
      "cell_type": "code",
      "metadata": {
        "colab": {
          "base_uri": "https://localhost:8080/"
        },
        "id": "xq9KoKtVFkqR",
        "outputId": "c5ff2023-1742-4e17-b97c-8feba2f08a52"
      },
      "source": [
        "# mở rổng ảnh\n",
        "hamburger_expanded = tf.expand_dims(hamburger_img, axis=0) # mở rộng kích thước ảnh từ (224, 224, 3) --> (1, 224, 224, 3)\n",
        "predict = model_1.predict(hamburger_expanded)\n",
        "predict"
      ],
      "execution_count": null,
      "outputs": [
        {
          "output_type": "execute_result",
          "data": {
            "text/plain": [
              "array([[2.1485635e-06, 1.5014882e-07, 1.5500862e-05, 5.9190256e-06,\n",
              "        9.9687445e-01, 3.0901586e-03, 5.3037235e-07, 2.3895615e-07,\n",
              "        4.5432736e-07, 1.0506758e-05]], dtype=float32)"
            ]
          },
          "metadata": {
            "tags": []
          },
          "execution_count": 21
        }
      ]
    },
    {
      "cell_type": "code",
      "metadata": {
        "colab": {
          "base_uri": "https://localhost:8080/",
          "height": 35
        },
        "id": "JayEh78nGZBr",
        "outputId": "b68b806f-a1c7-4c72-f3b8-87e41b3342bc"
      },
      "source": [
        "# kiểm tra nó thuộc lớp nào\n",
        "class_name[tf.argmax(predict[0])]"
      ],
      "execution_count": null,
      "outputs": [
        {
          "output_type": "execute_result",
          "data": {
            "application/vnd.google.colaboratory.intrinsic+json": {
              "type": "string"
            },
            "text/plain": [
              "'hamburger'"
            ]
          },
          "metadata": {
            "tags": []
          },
          "execution_count": 22
        }
      ]
    },
    {
      "cell_type": "markdown",
      "metadata": {
        "id": "gkBLKAlGJM_T"
      },
      "source": [
        "Save and  Upload model_1 to Google Storage"
      ]
    },
    {
      "cell_type": "code",
      "metadata": {
        "id": "6q5KX8r9JXhJ"
      },
      "source": [
        "model_1.save(\"efficientnet_model_1_10_classes.h5\")"
      ],
      "execution_count": null,
      "outputs": []
    },
    {
      "cell_type": "code",
      "metadata": {
        "id": "t5sLNzEFLdC5"
      },
      "source": [
        "#from google.colab import auth\n",
        "#auth.authenticate_user()"
      ],
      "execution_count": null,
      "outputs": []
    },
    {
      "cell_type": "code",
      "metadata": {
        "id": "Fwc3uS7bL1NC"
      },
      "source": [
        "#!curl https://sdk.cloud.google.com | bash 1> /dev/null\n",
        "#!gcloud init"
      ],
      "execution_count": null,
      "outputs": []
    },
    {
      "cell_type": "markdown",
      "metadata": {
        "id": "Ufm2is_rF8l0"
      },
      "source": [
        "Model_2 (11 classes)"
      ]
    },
    {
      "cell_type": "code",
      "metadata": {
        "colab": {
          "base_uri": "https://localhost:8080/"
        },
        "id": "LyFqDolIGCU-",
        "outputId": "ad5cee51-af60-49a7-cd81-7ddba3a689f9"
      },
      "source": [
        "# Download data\n",
        "! wget https://storage.googleapis.com/ml_deploymet_lec_bucket_0/11_food_classes_all_data.zip"
      ],
      "execution_count": null,
      "outputs": [
        {
          "output_type": "stream",
          "text": [
            "--2021-03-24 09:44:49--  https://storage.googleapis.com/ml_deploymet_lec_bucket_0/11_food_classes_all_data.zip\n",
            "Resolving storage.googleapis.com (storage.googleapis.com)... 108.177.119.128, 108.177.126.128, 108.177.127.128, ...\n",
            "Connecting to storage.googleapis.com (storage.googleapis.com)|108.177.119.128|:443... connected.\n",
            "HTTP request sent, awaiting response... 200 OK\n",
            "Length: 570914387 (544M) [application/zip]\n",
            "Saving to: ‘11_food_classes_all_data.zip’\n",
            "\n",
            "11_food_classes_all 100%[===================>] 544.47M  87.3MB/s    in 6.5s    \n",
            "\n",
            "2021-03-24 09:44:56 (83.1 MB/s) - ‘11_food_classes_all_data.zip’ saved [570914387/570914387]\n",
            "\n"
          ],
          "name": "stdout"
        }
      ]
    },
    {
      "cell_type": "code",
      "metadata": {
        "id": "ugP1YJUEG8WI"
      },
      "source": [
        "unzip_data(\"11_food_classes_all_data.zip\")"
      ],
      "execution_count": null,
      "outputs": []
    },
    {
      "cell_type": "code",
      "metadata": {
        "colab": {
          "base_uri": "https://localhost:8080/"
        },
        "id": "TXW_tFhWHoER",
        "outputId": "58920f6d-8b45-48e1-a783-d2871f10b258"
      },
      "source": [
        "train_data, test_data = create_data_loader(train_dir=\"/content/11_food_classes_all_data/train/\",\n",
        "                                           test_dir=\"/content/11_food_classes_all_data/test/\")"
      ],
      "execution_count": null,
      "outputs": [
        {
          "output_type": "stream",
          "text": [
            "Found 8250 files belonging to 11 classes.\n",
            "Found 2750 files belonging to 11 classes.\n"
          ],
          "name": "stdout"
        }
      ]
    },
    {
      "cell_type": "code",
      "metadata": {
        "colab": {
          "base_uri": "https://localhost:8080/"
        },
        "id": "DVhnjFOQICVN",
        "outputId": "629099b1-76dc-4903-9a4d-546fb627ad0b"
      },
      "source": [
        "train_data.class_names"
      ],
      "execution_count": null,
      "outputs": [
        {
          "output_type": "execute_result",
          "data": {
            "text/plain": [
              "['chicken_curry',\n",
              " 'chicken_wings',\n",
              " 'donuts',\n",
              " 'fried_rice',\n",
              " 'grilled_salmon',\n",
              " 'hamburger',\n",
              " 'ice_cream',\n",
              " 'pizza',\n",
              " 'ramen',\n",
              " 'steak',\n",
              " 'sushi']"
            ]
          },
          "metadata": {
            "tags": []
          },
          "execution_count": 29
        }
      ]
    },
    {
      "cell_type": "code",
      "metadata": {
        "colab": {
          "base_uri": "https://localhost:8080/"
        },
        "id": "ZWRcG08bOIx2",
        "outputId": "72606361-d9e1-47a5-8c2c-38d2b0c1e7e0"
      },
      "source": [
        "len(train_data.class_names)"
      ],
      "execution_count": null,
      "outputs": [
        {
          "output_type": "execute_result",
          "data": {
            "text/plain": [
              "11"
            ]
          },
          "metadata": {
            "tags": []
          },
          "execution_count": 30
        }
      ]
    },
    {
      "cell_type": "code",
      "metadata": {
        "colab": {
          "base_uri": "https://localhost:8080/"
        },
        "id": "nVeYWh1cMgVx",
        "outputId": "b3561f67-ed4c-4df2-ab6f-afa8e570d88a"
      },
      "source": [
        "model_2 = create_model(num_classes=len(train_data.class_names))"
      ],
      "execution_count": null,
      "outputs": [
        {
          "output_type": "stream",
          "text": [
            "Model: \"model_1\"\n",
            "_________________________________________________________________\n",
            "Layer (type)                 Output Shape              Param #   \n",
            "=================================================================\n",
            "input_layer (InputLayer)     [(None, 224, 224, 3)]     0         \n",
            "_________________________________________________________________\n",
            "data_augument (Sequential)   (None, None, None, 3)     0         \n",
            "_________________________________________________________________\n",
            "efficientnetb0 (Functional)  (None, None, None, 1280)  4049571   \n",
            "_________________________________________________________________\n",
            "pooling_layers (GlobalAverag (None, 1280)              0         \n",
            "_________________________________________________________________\n",
            "output_layers (Dense)        (None, 11)                14091     \n",
            "=================================================================\n",
            "Total params: 4,063,662\n",
            "Trainable params: 14,091\n",
            "Non-trainable params: 4,049,571\n",
            "_________________________________________________________________\n"
          ],
          "name": "stdout"
        }
      ]
    },
    {
      "cell_type": "code",
      "metadata": {
        "colab": {
          "base_uri": "https://localhost:8080/",
          "height": 547
        },
        "id": "VP_TQOaSOS9O",
        "outputId": "5fe6c3f8-8cf6-4368-f360-2e56dc472921"
      },
      "source": [
        "history_2 = model_2.fit(train_data,\n",
        "                        epochs=10,\n",
        "                        validation_data=test_data,\n",
        "                        validation_steps=int(0.25*len(test_data)))"
      ],
      "execution_count": null,
      "outputs": [
        {
          "output_type": "stream",
          "text": [
            "Epoch 1/10\n",
            "258/258 [==============================] - 39s 132ms/step - loss: 1.4784 - accuracy: 0.5609 - val_loss: 0.5503 - val_accuracy: 0.8333\n",
            "Epoch 2/10\n",
            "258/258 [==============================] - 33s 128ms/step - loss: 0.7354 - accuracy: 0.7721 - val_loss: 0.4795 - val_accuracy: 0.8438\n",
            "Epoch 3/10\n",
            "258/258 [==============================] - 33s 126ms/step - loss: 0.6284 - accuracy: 0.8112 - val_loss: 0.4044 - val_accuracy: 0.8631\n",
            "Epoch 4/10\n",
            "258/258 [==============================] - 33s 127ms/step - loss: 0.5682 - accuracy: 0.8195 - val_loss: 0.4107 - val_accuracy: 0.8616\n",
            "Epoch 5/10\n",
            "127/258 [=============>................] - ETA: 15s - loss: 0.5573 - accuracy: 0.8289"
          ],
          "name": "stdout"
        },
        {
          "output_type": "error",
          "ename": "KeyboardInterrupt",
          "evalue": "ignored",
          "traceback": [
            "\u001b[0;31m---------------------------------------------------------------------------\u001b[0m",
            "\u001b[0;31mKeyboardInterrupt\u001b[0m                         Traceback (most recent call last)",
            "\u001b[0;32m<ipython-input-32-0067f3bb157d>\u001b[0m in \u001b[0;36m<module>\u001b[0;34m()\u001b[0m\n\u001b[1;32m      2\u001b[0m                         \u001b[0mepochs\u001b[0m\u001b[0;34m=\u001b[0m\u001b[0;36m10\u001b[0m\u001b[0;34m,\u001b[0m\u001b[0;34m\u001b[0m\u001b[0;34m\u001b[0m\u001b[0m\n\u001b[1;32m      3\u001b[0m                         \u001b[0mvalidation_data\u001b[0m\u001b[0;34m=\u001b[0m\u001b[0mtest_data\u001b[0m\u001b[0;34m,\u001b[0m\u001b[0;34m\u001b[0m\u001b[0;34m\u001b[0m\u001b[0m\n\u001b[0;32m----> 4\u001b[0;31m                         validation_steps=int(0.25*len(test_data)))\n\u001b[0m",
            "\u001b[0;32m/usr/local/lib/python3.7/dist-packages/tensorflow/python/keras/engine/training.py\u001b[0m in \u001b[0;36mfit\u001b[0;34m(self, x, y, batch_size, epochs, verbose, callbacks, validation_split, validation_data, shuffle, class_weight, sample_weight, initial_epoch, steps_per_epoch, validation_steps, validation_batch_size, validation_freq, max_queue_size, workers, use_multiprocessing)\u001b[0m\n\u001b[1;32m   1098\u001b[0m                 _r=1):\n\u001b[1;32m   1099\u001b[0m               \u001b[0mcallbacks\u001b[0m\u001b[0;34m.\u001b[0m\u001b[0mon_train_batch_begin\u001b[0m\u001b[0;34m(\u001b[0m\u001b[0mstep\u001b[0m\u001b[0;34m)\u001b[0m\u001b[0;34m\u001b[0m\u001b[0;34m\u001b[0m\u001b[0m\n\u001b[0;32m-> 1100\u001b[0;31m               \u001b[0mtmp_logs\u001b[0m \u001b[0;34m=\u001b[0m \u001b[0mself\u001b[0m\u001b[0;34m.\u001b[0m\u001b[0mtrain_function\u001b[0m\u001b[0;34m(\u001b[0m\u001b[0miterator\u001b[0m\u001b[0;34m)\u001b[0m\u001b[0;34m\u001b[0m\u001b[0;34m\u001b[0m\u001b[0m\n\u001b[0m\u001b[1;32m   1101\u001b[0m               \u001b[0;32mif\u001b[0m \u001b[0mdata_handler\u001b[0m\u001b[0;34m.\u001b[0m\u001b[0mshould_sync\u001b[0m\u001b[0;34m:\u001b[0m\u001b[0;34m\u001b[0m\u001b[0;34m\u001b[0m\u001b[0m\n\u001b[1;32m   1102\u001b[0m                 \u001b[0mcontext\u001b[0m\u001b[0;34m.\u001b[0m\u001b[0masync_wait\u001b[0m\u001b[0;34m(\u001b[0m\u001b[0;34m)\u001b[0m\u001b[0;34m\u001b[0m\u001b[0;34m\u001b[0m\u001b[0m\n",
            "\u001b[0;32m/usr/local/lib/python3.7/dist-packages/tensorflow/python/eager/def_function.py\u001b[0m in \u001b[0;36m__call__\u001b[0;34m(self, *args, **kwds)\u001b[0m\n\u001b[1;32m    826\u001b[0m     \u001b[0mtracing_count\u001b[0m \u001b[0;34m=\u001b[0m \u001b[0mself\u001b[0m\u001b[0;34m.\u001b[0m\u001b[0mexperimental_get_tracing_count\u001b[0m\u001b[0;34m(\u001b[0m\u001b[0;34m)\u001b[0m\u001b[0;34m\u001b[0m\u001b[0;34m\u001b[0m\u001b[0m\n\u001b[1;32m    827\u001b[0m     \u001b[0;32mwith\u001b[0m \u001b[0mtrace\u001b[0m\u001b[0;34m.\u001b[0m\u001b[0mTrace\u001b[0m\u001b[0;34m(\u001b[0m\u001b[0mself\u001b[0m\u001b[0;34m.\u001b[0m\u001b[0m_name\u001b[0m\u001b[0;34m)\u001b[0m \u001b[0;32mas\u001b[0m \u001b[0mtm\u001b[0m\u001b[0;34m:\u001b[0m\u001b[0;34m\u001b[0m\u001b[0;34m\u001b[0m\u001b[0m\n\u001b[0;32m--> 828\u001b[0;31m       \u001b[0mresult\u001b[0m \u001b[0;34m=\u001b[0m \u001b[0mself\u001b[0m\u001b[0;34m.\u001b[0m\u001b[0m_call\u001b[0m\u001b[0;34m(\u001b[0m\u001b[0;34m*\u001b[0m\u001b[0margs\u001b[0m\u001b[0;34m,\u001b[0m \u001b[0;34m**\u001b[0m\u001b[0mkwds\u001b[0m\u001b[0;34m)\u001b[0m\u001b[0;34m\u001b[0m\u001b[0;34m\u001b[0m\u001b[0m\n\u001b[0m\u001b[1;32m    829\u001b[0m       \u001b[0mcompiler\u001b[0m \u001b[0;34m=\u001b[0m \u001b[0;34m\"xla\"\u001b[0m \u001b[0;32mif\u001b[0m \u001b[0mself\u001b[0m\u001b[0;34m.\u001b[0m\u001b[0m_experimental_compile\u001b[0m \u001b[0;32melse\u001b[0m \u001b[0;34m\"nonXla\"\u001b[0m\u001b[0;34m\u001b[0m\u001b[0;34m\u001b[0m\u001b[0m\n\u001b[1;32m    830\u001b[0m       \u001b[0mnew_tracing_count\u001b[0m \u001b[0;34m=\u001b[0m \u001b[0mself\u001b[0m\u001b[0;34m.\u001b[0m\u001b[0mexperimental_get_tracing_count\u001b[0m\u001b[0;34m(\u001b[0m\u001b[0;34m)\u001b[0m\u001b[0;34m\u001b[0m\u001b[0;34m\u001b[0m\u001b[0m\n",
            "\u001b[0;32m/usr/local/lib/python3.7/dist-packages/tensorflow/python/eager/def_function.py\u001b[0m in \u001b[0;36m_call\u001b[0;34m(self, *args, **kwds)\u001b[0m\n\u001b[1;32m    853\u001b[0m       \u001b[0;31m# In this case we have created variables on the first call, so we run the\u001b[0m\u001b[0;34m\u001b[0m\u001b[0;34m\u001b[0m\u001b[0;34m\u001b[0m\u001b[0m\n\u001b[1;32m    854\u001b[0m       \u001b[0;31m# defunned version which is guaranteed to never create variables.\u001b[0m\u001b[0;34m\u001b[0m\u001b[0;34m\u001b[0m\u001b[0;34m\u001b[0m\u001b[0m\n\u001b[0;32m--> 855\u001b[0;31m       \u001b[0;32mreturn\u001b[0m \u001b[0mself\u001b[0m\u001b[0;34m.\u001b[0m\u001b[0m_stateless_fn\u001b[0m\u001b[0;34m(\u001b[0m\u001b[0;34m*\u001b[0m\u001b[0margs\u001b[0m\u001b[0;34m,\u001b[0m \u001b[0;34m**\u001b[0m\u001b[0mkwds\u001b[0m\u001b[0;34m)\u001b[0m  \u001b[0;31m# pylint: disable=not-callable\u001b[0m\u001b[0;34m\u001b[0m\u001b[0;34m\u001b[0m\u001b[0m\n\u001b[0m\u001b[1;32m    856\u001b[0m     \u001b[0;32melif\u001b[0m \u001b[0mself\u001b[0m\u001b[0;34m.\u001b[0m\u001b[0m_stateful_fn\u001b[0m \u001b[0;32mis\u001b[0m \u001b[0;32mnot\u001b[0m \u001b[0;32mNone\u001b[0m\u001b[0;34m:\u001b[0m\u001b[0;34m\u001b[0m\u001b[0;34m\u001b[0m\u001b[0m\n\u001b[1;32m    857\u001b[0m       \u001b[0;31m# Release the lock early so that multiple threads can perform the call\u001b[0m\u001b[0;34m\u001b[0m\u001b[0;34m\u001b[0m\u001b[0;34m\u001b[0m\u001b[0m\n",
            "\u001b[0;32m/usr/local/lib/python3.7/dist-packages/tensorflow/python/eager/function.py\u001b[0m in \u001b[0;36m__call__\u001b[0;34m(self, *args, **kwargs)\u001b[0m\n\u001b[1;32m   2941\u001b[0m        filtered_flat_args) = self._maybe_define_function(args, kwargs)\n\u001b[1;32m   2942\u001b[0m     return graph_function._call_flat(\n\u001b[0;32m-> 2943\u001b[0;31m         filtered_flat_args, captured_inputs=graph_function.captured_inputs)  # pylint: disable=protected-access\n\u001b[0m\u001b[1;32m   2944\u001b[0m \u001b[0;34m\u001b[0m\u001b[0m\n\u001b[1;32m   2945\u001b[0m   \u001b[0;34m@\u001b[0m\u001b[0mproperty\u001b[0m\u001b[0;34m\u001b[0m\u001b[0;34m\u001b[0m\u001b[0m\n",
            "\u001b[0;32m/usr/local/lib/python3.7/dist-packages/tensorflow/python/eager/function.py\u001b[0m in \u001b[0;36m_call_flat\u001b[0;34m(self, args, captured_inputs, cancellation_manager)\u001b[0m\n\u001b[1;32m   1917\u001b[0m       \u001b[0;31m# No tape is watching; skip to running the function.\u001b[0m\u001b[0;34m\u001b[0m\u001b[0;34m\u001b[0m\u001b[0;34m\u001b[0m\u001b[0m\n\u001b[1;32m   1918\u001b[0m       return self._build_call_outputs(self._inference_function.call(\n\u001b[0;32m-> 1919\u001b[0;31m           ctx, args, cancellation_manager=cancellation_manager))\n\u001b[0m\u001b[1;32m   1920\u001b[0m     forward_backward = self._select_forward_and_backward_functions(\n\u001b[1;32m   1921\u001b[0m         \u001b[0margs\u001b[0m\u001b[0;34m,\u001b[0m\u001b[0;34m\u001b[0m\u001b[0;34m\u001b[0m\u001b[0m\n",
            "\u001b[0;32m/usr/local/lib/python3.7/dist-packages/tensorflow/python/eager/function.py\u001b[0m in \u001b[0;36mcall\u001b[0;34m(self, ctx, args, cancellation_manager)\u001b[0m\n\u001b[1;32m    558\u001b[0m               \u001b[0minputs\u001b[0m\u001b[0;34m=\u001b[0m\u001b[0margs\u001b[0m\u001b[0;34m,\u001b[0m\u001b[0;34m\u001b[0m\u001b[0;34m\u001b[0m\u001b[0m\n\u001b[1;32m    559\u001b[0m               \u001b[0mattrs\u001b[0m\u001b[0;34m=\u001b[0m\u001b[0mattrs\u001b[0m\u001b[0;34m,\u001b[0m\u001b[0;34m\u001b[0m\u001b[0;34m\u001b[0m\u001b[0m\n\u001b[0;32m--> 560\u001b[0;31m               ctx=ctx)\n\u001b[0m\u001b[1;32m    561\u001b[0m         \u001b[0;32melse\u001b[0m\u001b[0;34m:\u001b[0m\u001b[0;34m\u001b[0m\u001b[0;34m\u001b[0m\u001b[0m\n\u001b[1;32m    562\u001b[0m           outputs = execute.execute_with_cancellation(\n",
            "\u001b[0;32m/usr/local/lib/python3.7/dist-packages/tensorflow/python/eager/execute.py\u001b[0m in \u001b[0;36mquick_execute\u001b[0;34m(op_name, num_outputs, inputs, attrs, ctx, name)\u001b[0m\n\u001b[1;32m     58\u001b[0m     \u001b[0mctx\u001b[0m\u001b[0;34m.\u001b[0m\u001b[0mensure_initialized\u001b[0m\u001b[0;34m(\u001b[0m\u001b[0;34m)\u001b[0m\u001b[0;34m\u001b[0m\u001b[0;34m\u001b[0m\u001b[0m\n\u001b[1;32m     59\u001b[0m     tensors = pywrap_tfe.TFE_Py_Execute(ctx._handle, device_name, op_name,\n\u001b[0;32m---> 60\u001b[0;31m                                         inputs, attrs, num_outputs)\n\u001b[0m\u001b[1;32m     61\u001b[0m   \u001b[0;32mexcept\u001b[0m \u001b[0mcore\u001b[0m\u001b[0;34m.\u001b[0m\u001b[0m_NotOkStatusException\u001b[0m \u001b[0;32mas\u001b[0m \u001b[0me\u001b[0m\u001b[0;34m:\u001b[0m\u001b[0;34m\u001b[0m\u001b[0;34m\u001b[0m\u001b[0m\n\u001b[1;32m     62\u001b[0m     \u001b[0;32mif\u001b[0m \u001b[0mname\u001b[0m \u001b[0;32mis\u001b[0m \u001b[0;32mnot\u001b[0m \u001b[0;32mNone\u001b[0m\u001b[0;34m:\u001b[0m\u001b[0;34m\u001b[0m\u001b[0;34m\u001b[0m\u001b[0m\n",
            "\u001b[0;31mKeyboardInterrupt\u001b[0m: "
          ]
        }
      ]
    },
    {
      "cell_type": "code",
      "metadata": {
        "id": "JJmeUvyGbZVl"
      },
      "source": [
        "# predict\n",
        "! wget https://cdn.tgdd.vn/Files/2018/07/02/1098913/ca-nha-cung-lam-banh-donut-sieu-ngon--sieu-de-thuong-6.JPG"
      ],
      "execution_count": null,
      "outputs": []
    },
    {
      "cell_type": "code",
      "metadata": {
        "id": "DCcIbrW8f3ip"
      },
      "source": [
        "donut_img = load_and_prep_img(\"/content/ca-nha-cung-lam-banh-donut-sieu-ngon--sieu-de-thuong-6.JPG\")"
      ],
      "execution_count": null,
      "outputs": []
    },
    {
      "cell_type": "code",
      "metadata": {
        "id": "1D1I4-qaftCV"
      },
      "source": [
        "donut_expand = tf.expand_dims(donut_img, axis=0)\n",
        "predict = model_2.predict(donut_expand)"
      ],
      "execution_count": null,
      "outputs": []
    },
    {
      "cell_type": "code",
      "metadata": {
        "id": "aLII6oIKg5ck"
      },
      "source": [
        "class_name = train_data.class_names"
      ],
      "execution_count": null,
      "outputs": []
    },
    {
      "cell_type": "code",
      "metadata": {
        "id": "8qg_lU7lgSKd"
      },
      "source": [
        "class_name[tf.argmax(predict[0])]"
      ],
      "execution_count": null,
      "outputs": []
    }
  ]
}