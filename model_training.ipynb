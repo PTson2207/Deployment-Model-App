{
  "nbformat": 4,
  "nbformat_minor": 0,
  "metadata": {
    "colab": {
      "name": "model_training.ipynb",
      "provenance": [],
      "mount_file_id": "12ZLq9TV1T7_9YaDC5GiqOHN4FtEVAQzz",
      "authorship_tag": "ABX9TyO9iRKUK+O4/OF8LcUkY+ve",
      "include_colab_link": true
    },
    "kernelspec": {
      "name": "python3",
      "display_name": "Python 3"
    }
  },
  "cells": [
    {
      "cell_type": "markdown",
      "metadata": {
        "id": "view-in-github",
        "colab_type": "text"
      },
      "source": [
        "<a href=\"https://colab.research.google.com/github/PTson2207/Deployment-Model-App/blob/main/model_training.ipynb\" target=\"_parent\"><img src=\"https://colab.research.google.com/assets/colab-badge.svg\" alt=\"Open In Colab\"/></a>"
      ]
    },
    {
      "cell_type": "markdown",
      "metadata": {
        "id": "39c1oovB7crR"
      },
      "source": [
        "Training someone model, then deploy ...\r\n",
        "\r\n",
        "- Want: Save_model and then upload Google Storage\r\n",
        "- Data: From Kaggle-Food 101\r\n",
        "- Model(s): 10, 11, 12 classes"
      ]
    },
    {
      "cell_type": "markdown",
      "metadata": {
        "id": "ogimD5Mv9PoP"
      },
      "source": [
        "Setup some Function"
      ]
    },
    {
      "cell_type": "code",
      "metadata": {
        "id": "z__jj4Zq7PmD"
      },
      "source": [
        "# library\r\n",
        "import numpy as np\r\n",
        "import pandas as pd\r\n",
        "import matplotlib.pyplot as plt\r\n",
        "import zipfile\r\n",
        "import tensorflow as tf\r\n",
        "from tensorflow import keras\r\n",
        "from tensorflow.keras import layers\r\n",
        "from tensorflow.keras.layers.experimental import preprocessing"
      ],
      "execution_count": 1,
      "outputs": []
    },
    {
      "cell_type": "code",
      "metadata": {
        "id": "FWUp2zRP_GfS"
      },
      "source": [
        "# Function unzip dowload_data file\r\n",
        "def unzip_data(file_name):\r\n",
        "    zip_ref = zipfile.ZipFile(file_name, 'r')\r\n",
        "    zip_ref.extractall()\r\n",
        "    zip_ref.close()"
      ],
      "execution_count": 2,
      "outputs": []
    }
  ]
}