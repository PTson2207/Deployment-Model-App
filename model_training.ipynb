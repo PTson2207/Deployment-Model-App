{
  "nbformat": 4,
  "nbformat_minor": 0,
  "metadata": {
    "colab": {
      "name": "model_training.ipynb",
      "provenance": [],
      "mount_file_id": "12ZLq9TV1T7_9YaDC5GiqOHN4FtEVAQzz",
      "authorship_tag": "ABX9TyOnsDovDunUi3IA2NYJFEcd",
      "include_colab_link": true
    },
    "kernelspec": {
      "name": "python3",
      "display_name": "Python 3"
    },
    "accelerator": "GPU"
  },
  "cells": [
    {
      "cell_type": "markdown",
      "metadata": {
        "id": "view-in-github",
        "colab_type": "text"
      },
      "source": [
        "<a href=\"https://colab.research.google.com/github/PTson2207/Deployment-Model-App/blob/main/model_training.ipynb\" target=\"_parent\"><img src=\"https://colab.research.google.com/assets/colab-badge.svg\" alt=\"Open In Colab\"/></a>"
      ]
    },
    {
      "cell_type": "markdown",
      "metadata": {
        "id": "39c1oovB7crR"
      },
      "source": [
        "Training someone model, then deploy ...\n",
        "\n",
        "- Want: Save_model and then upload Google Storage\n",
        "- Data: From Kaggle-Food 101\n",
        "- Model(s): 10, 11, 12 classes"
      ]
    },
    {
      "cell_type": "code",
      "metadata": {
        "colab": {
          "base_uri": "https://localhost:8080/"
        },
        "id": "rI9v28rVeBdB",
        "outputId": "61059084-1d9e-4b2f-ad5d-efff5923eb0b"
      },
      "source": [
        "! nvidia-smi"
      ],
      "execution_count": 1,
      "outputs": [
        {
          "output_type": "stream",
          "text": [
            "Sat Mar 20 14:17:29 2021       \n",
            "+-----------------------------------------------------------------------------+\n",
            "| NVIDIA-SMI 460.56       Driver Version: 460.32.03    CUDA Version: 11.2     |\n",
            "|-------------------------------+----------------------+----------------------+\n",
            "| GPU  Name        Persistence-M| Bus-Id        Disp.A | Volatile Uncorr. ECC |\n",
            "| Fan  Temp  Perf  Pwr:Usage/Cap|         Memory-Usage | GPU-Util  Compute M. |\n",
            "|                               |                      |               MIG M. |\n",
            "|===============================+======================+======================|\n",
            "|   0  Tesla T4            Off  | 00000000:00:04.0 Off |                    0 |\n",
            "| N/A   63C    P8    11W /  70W |      0MiB / 15109MiB |      0%      Default |\n",
            "|                               |                      |                  N/A |\n",
            "+-------------------------------+----------------------+----------------------+\n",
            "                                                                               \n",
            "+-----------------------------------------------------------------------------+\n",
            "| Processes:                                                                  |\n",
            "|  GPU   GI   CI        PID   Type   Process name                  GPU Memory |\n",
            "|        ID   ID                                                   Usage      |\n",
            "|=============================================================================|\n",
            "|  No running processes found                                                 |\n",
            "+-----------------------------------------------------------------------------+\n"
          ],
          "name": "stdout"
        }
      ]
    },
    {
      "cell_type": "markdown",
      "metadata": {
        "id": "ogimD5Mv9PoP"
      },
      "source": [
        "Setup some Function"
      ]
    },
    {
      "cell_type": "code",
      "metadata": {
        "id": "z__jj4Zq7PmD"
      },
      "source": [
        "# thư viện\n",
        "import numpy as np\n",
        "import pandas as pd\n",
        "import matplotlib.pyplot as plt\n",
        "import zipfile\n",
        "import tensorflow as tf\n",
        "from tensorflow import keras\n",
        "from tensorflow.keras import layers\n",
        "from tensorflow.keras.layers.experimental import preprocessing"
      ],
      "execution_count": 2,
      "outputs": []
    },
    {
      "cell_type": "code",
      "metadata": {
        "id": "FWUp2zRP_GfS"
      },
      "source": [
        "# Hàm unzip dowload_data file\n",
        "\n",
        "def unzip_data(file_name):\n",
        "    zip_ref = zipfile.ZipFile(file_name, 'r')\n",
        "    zip_ref.extractall()\n",
        "    zip_ref.close()"
      ],
      "execution_count": 3,
      "outputs": []
    },
    {
      "cell_type": "code",
      "metadata": {
        "id": "ExiNrsIDAcJu"
      },
      "source": [
        "# Setup dataset input\n",
        "IMG_SIZE = (224, 224)\n",
        "\n",
        "def create_data_loader(train_dir, test_dir, img_size=IMG_SIZE):\n",
        "    train_data = tf.keras.preprocessing.image_dataset_from_directory(train_dir,\n",
        "                                                                     label_mode=\"categorical\",\n",
        "                                                                     image_size=img_size)\n",
        "    \n",
        "    test_data = tf.keras.preprocessing.image_dataset_from_directory(test_dir,\n",
        "                                                                    label_mode=\"categorical\",\n",
        "                                                                    image_size=img_size)\n",
        "    return train_data, test_data"
      ],
      "execution_count": 4,
      "outputs": []
    },
    {
      "cell_type": "code",
      "metadata": {
        "id": "7Y_4f-X0e6SF"
      },
      "source": [
        "data_augument = keras.Sequential([\n",
        "                                  preprocessing.RandomFlip('horizontal'),\n",
        "                                  preprocessing.RandomRotation(0.2),\n",
        "                                  preprocessing.RandomHeight(0.2),\n",
        "                                  preprocessing.RandomWidth(0.2),\n",
        "                                  preprocessing.RandomZoom(0.2),\n",
        "                                  #preprocessing.Rescaling(1./255) # cho Resnet50V2, không cần thiết với EfficientNetB0\n",
        "], name=\"data_augument\")"
      ],
      "execution_count": 5,
      "outputs": []
    },
    {
      "cell_type": "code",
      "metadata": {
        "id": "XR12EEfSkd9y",
        "colab": {
          "base_uri": "https://localhost:8080/"
        },
        "outputId": "40d34012-41f1-42f3-871d-ba0e2eb534aa"
      },
      "source": [
        "# setup input_shape and base_model\n",
        "INPUT_SHAPE = (224, 224, 3)\n",
        "BASE_MODEL = tf.keras.applications.EfficientNetB0(include_top=False)"
      ],
      "execution_count": 6,
      "outputs": [
        {
          "output_type": "stream",
          "text": [
            "Downloading data from https://storage.googleapis.com/keras-applications/efficientnetb0_notop.h5\n",
            "16711680/16705208 [==============================] - 0s 0us/step\n"
          ],
          "name": "stdout"
        }
      ]
    },
    {
      "cell_type": "code",
      "metadata": {
        "id": "OlpZhhzPlLwo"
      },
      "source": [
        "def create_model(input_shape=INPUT_SHAPE, base_model=BASE_MODEL, num_classes=10):\n",
        "    # Fine tune model\n",
        "    base_model.trainable = False\n",
        "    # tạo layers\n",
        "    inputs = layers.Input(shape=INPUT_SHAPE, name=\"input_layer\")\n",
        "    # thêm data_augument như một layer\n",
        "    x = data_augument(inputs)\n",
        "    # give model inputs (after augument) nhưng không train\n",
        "    x = base_model(x, training= False)\n",
        "    # Pool layer\n",
        "    x = layers.GlobalAveragePooling2D(name='pooling_layers')(x)\n",
        "    # put a dense layer as a out_put\n",
        "    outputs = layers.Dense(num_classes, activation='softmax', name='output_layers')(x)\n",
        "\n",
        "    # model từ input và output\n",
        "    model = keras.Model(inputs, outputs)\n",
        "\n",
        "    model.compile(loss=\"categorical_crossentropy\",\n",
        "                  optimizer=tf.keras.optimizers.Adam(),\n",
        "                  metrics=['accuracy'])\n",
        "    model.summary()\n",
        "\n",
        "    return model"
      ],
      "execution_count": 7,
      "outputs": []
    },
    {
      "cell_type": "code",
      "metadata": {
        "id": "_gd_dX4NMpJE"
      },
      "source": [
        "# Hàm import ảnh và resize ảnh\n",
        "def load_and_prep_img(filename, img_shape=224, scale=False):\n",
        "    # đọc ảnh\n",
        "    img = tf.io.read_file(filename)\n",
        "    # dịch ảnh sang tensor unit8\n",
        "    img = tf.image.decode_jpeg(img)\n",
        "    # thay đổi kích thước ảnh\n",
        "    img = tf.image.resize(img, [img_shape, img_shape])\n",
        "    # đổi giá trị ảnh về giữa đoạn 0 đến 1\n",
        "    if scale:\n",
        "        return img/255\n",
        "    else:\n",
        "        return img"
      ],
      "execution_count": 22,
      "outputs": []
    },
    {
      "cell_type": "markdown",
      "metadata": {
        "id": "nlZiPbfoPX5y"
      },
      "source": [
        "Download Data"
      ]
    },
    {
      "cell_type": "code",
      "metadata": {
        "colab": {
          "base_uri": "https://localhost:8080/"
        },
        "id": "Jmpjp_2iPbEw",
        "outputId": "78b8cf0f-77ed-4bdf-a353-198a5eec6ced"
      },
      "source": [
        "!wget https://storage.googleapis.com/ztm_tf_course/food_vision/10_food_classes_all_data.zip\n",
        "\n",
        "unzip_data(\"10_food_classes_all_data.zip\")"
      ],
      "execution_count": 9,
      "outputs": [
        {
          "output_type": "stream",
          "text": [
            "--2021-03-20 14:17:38--  https://storage.googleapis.com/ztm_tf_course/food_vision/10_food_classes_all_data.zip\n",
            "Resolving storage.googleapis.com (storage.googleapis.com)... 172.217.7.208, 172.217.164.176, 172.217.15.112, ...\n",
            "Connecting to storage.googleapis.com (storage.googleapis.com)|172.217.7.208|:443... connected.\n",
            "HTTP request sent, awaiting response... 200 OK\n",
            "Length: 519183241 (495M) [application/zip]\n",
            "Saving to: ‘10_food_classes_all_data.zip’\n",
            "\n",
            "10_food_classes_all 100%[===================>] 495.13M   244MB/s    in 2.0s    \n",
            "\n",
            "2021-03-20 14:17:41 (244 MB/s) - ‘10_food_classes_all_data.zip’ saved [519183241/519183241]\n",
            "\n"
          ],
          "name": "stdout"
        }
      ]
    },
    {
      "cell_type": "code",
      "metadata": {
        "colab": {
          "base_uri": "https://localhost:8080/"
        },
        "id": "q1pm0C5rRbxf",
        "outputId": "e8ebc8b3-e02d-46c1-97ce-3b1981c89c99"
      },
      "source": [
        "# có bao nhiêu ảnh trong mỗi folder ?\n",
        "import os\n",
        "\n",
        "for dirpath, dirnames, filenames in os.walk(\"10_food_classes_all_data\"):\n",
        "    print(f\"Có {len(dirnames)} thư mục con và có {len(filenames)} ảnh trong thư mục '{dirpath}'.\")"
      ],
      "execution_count": 10,
      "outputs": [
        {
          "output_type": "stream",
          "text": [
            "Có 2 thư mục con và có 0 ảnh trong thư mục '10_food_classes_all_data'.\n",
            "Có 10 thư mục con và có 0 ảnh trong thư mục '10_food_classes_all_data/test'.\n",
            "Có 0 thư mục con và có 250 ảnh trong thư mục '10_food_classes_all_data/test/hamburger'.\n",
            "Có 0 thư mục con và có 250 ảnh trong thư mục '10_food_classes_all_data/test/sushi'.\n",
            "Có 0 thư mục con và có 250 ảnh trong thư mục '10_food_classes_all_data/test/chicken_wings'.\n",
            "Có 0 thư mục con và có 250 ảnh trong thư mục '10_food_classes_all_data/test/fried_rice'.\n",
            "Có 0 thư mục con và có 250 ảnh trong thư mục '10_food_classes_all_data/test/pizza'.\n",
            "Có 0 thư mục con và có 250 ảnh trong thư mục '10_food_classes_all_data/test/ice_cream'.\n",
            "Có 0 thư mục con và có 250 ảnh trong thư mục '10_food_classes_all_data/test/steak'.\n",
            "Có 0 thư mục con và có 250 ảnh trong thư mục '10_food_classes_all_data/test/ramen'.\n",
            "Có 0 thư mục con và có 250 ảnh trong thư mục '10_food_classes_all_data/test/chicken_curry'.\n",
            "Có 0 thư mục con và có 250 ảnh trong thư mục '10_food_classes_all_data/test/grilled_salmon'.\n",
            "Có 10 thư mục con và có 0 ảnh trong thư mục '10_food_classes_all_data/train'.\n",
            "Có 0 thư mục con và có 750 ảnh trong thư mục '10_food_classes_all_data/train/hamburger'.\n",
            "Có 0 thư mục con và có 750 ảnh trong thư mục '10_food_classes_all_data/train/sushi'.\n",
            "Có 0 thư mục con và có 750 ảnh trong thư mục '10_food_classes_all_data/train/chicken_wings'.\n",
            "Có 0 thư mục con và có 750 ảnh trong thư mục '10_food_classes_all_data/train/fried_rice'.\n",
            "Có 0 thư mục con và có 750 ảnh trong thư mục '10_food_classes_all_data/train/pizza'.\n",
            "Có 0 thư mục con và có 750 ảnh trong thư mục '10_food_classes_all_data/train/ice_cream'.\n",
            "Có 0 thư mục con và có 750 ảnh trong thư mục '10_food_classes_all_data/train/steak'.\n",
            "Có 0 thư mục con và có 750 ảnh trong thư mục '10_food_classes_all_data/train/ramen'.\n",
            "Có 0 thư mục con và có 750 ảnh trong thư mục '10_food_classes_all_data/train/chicken_curry'.\n",
            "Có 0 thư mục con và có 750 ảnh trong thư mục '10_food_classes_all_data/train/grilled_salmon'.\n"
          ],
          "name": "stdout"
        }
      ]
    },
    {
      "cell_type": "code",
      "metadata": {
        "id": "m1rSM8DaW1o1"
      },
      "source": [
        "# hàm tạo nhằm mục đích load lại mỗi khi chạy mới mô hình\n",
        "import datetime\n",
        "\n",
        "def create_tensorboard_callback(dir_name, experiment_name):\n",
        "    log_dir = dir_name + \"/\" + experiment_name + \"/\" + datetime.datetime.now().strftime(\"%Y%m%d-%H%M%S\")\n",
        "    tensorboard_callback = tf.keras.callbacks.TensorBoard(\n",
        "                log_dir=log_dir\n",
        "    )\n",
        "    print(f\"Lưu lại thông tin ở: {log_dir}\")\n",
        "    return tensorboard_callback"
      ],
      "execution_count": 11,
      "outputs": []
    },
    {
      "cell_type": "markdown",
      "metadata": {
        "id": "4sU3aqLxYNva"
      },
      "source": [
        "    Vì ta có khả năng có thể chạy lại model nhiều lần, vì thế ta có thể theo dõi chúng theo một cách nào đó.\n",
        "    Hàm trên lưu lại nhật kí hiệu suất mô hình ở thư mục: [dir_name]/[experiment_name]/[current_timestamp]:\n",
        "    - dir_name:  thư mục lưu lại nhật kí tổng thể.\n",
        "    - experiment_name: thử nghiệm cụ thể.\n",
        "    - current_timestamp: thời gian thử nghiệm chi tiết."
      ]
    },
    {
      "cell_type": "markdown",
      "metadata": {
        "id": "4573rtDua7CT"
      },
      "source": [
        "Model 1 (10 classes)"
      ]
    },
    {
      "cell_type": "code",
      "metadata": {
        "colab": {
          "base_uri": "https://localhost:8080/"
        },
        "id": "lvz0Lgm4a-y8",
        "outputId": "b84f0f26-8679-48d6-dd7d-4c3058373c01"
      },
      "source": [
        "train_data, test_data = create_data_loader(train_dir=\"10_food_classes_all_data/train/\",\n",
        "                                           test_dir=\"10_food_classes_all_data/test/\")"
      ],
      "execution_count": 12,
      "outputs": [
        {
          "output_type": "stream",
          "text": [
            "Found 7500 files belonging to 10 classes.\n",
            "Found 2500 files belonging to 10 classes.\n"
          ],
          "name": "stdout"
        }
      ]
    },
    {
      "cell_type": "code",
      "metadata": {
        "colab": {
          "base_uri": "https://localhost:8080/"
        },
        "id": "xHigYMlTcaKl",
        "outputId": "fc04e383-6abf-48fe-b7fb-eee11517635b"
      },
      "source": [
        "# xem kích cỡ dataset\n",
        "print(train_data)\n",
        "len(train_data)"
      ],
      "execution_count": 13,
      "outputs": [
        {
          "output_type": "stream",
          "text": [
            "<BatchDataset shapes: ((None, 224, 224, 3), (None, 10)), types: (tf.float32, tf.float32)>\n"
          ],
          "name": "stdout"
        },
        {
          "output_type": "execute_result",
          "data": {
            "text/plain": [
              "235"
            ]
          },
          "metadata": {
            "tags": []
          },
          "execution_count": 13
        }
      ]
    },
    {
      "cell_type": "code",
      "metadata": {
        "colab": {
          "base_uri": "https://localhost:8080/"
        },
        "id": "bwqUgSBJVl1o",
        "outputId": "4510b51a-8d43-4be6-bb66-0c56542784cf"
      },
      "source": [
        "print(test_data)\n",
        "len(test_data)"
      ],
      "execution_count": 14,
      "outputs": [
        {
          "output_type": "stream",
          "text": [
            "<BatchDataset shapes: ((None, 224, 224, 3), (None, 10)), types: (tf.float32, tf.float32)>\n"
          ],
          "name": "stdout"
        },
        {
          "output_type": "execute_result",
          "data": {
            "text/plain": [
              "79"
            ]
          },
          "metadata": {
            "tags": []
          },
          "execution_count": 14
        }
      ]
    },
    {
      "cell_type": "code",
      "metadata": {
        "colab": {
          "base_uri": "https://localhost:8080/"
        },
        "id": "nOP5zIrrchX-",
        "outputId": "1947a095-c465-4600-db07-b3e00fa6d27a"
      },
      "source": [
        "# call model\n",
        "model_1 = create_model(num_classes=len(train_data.class_names))"
      ],
      "execution_count": 15,
      "outputs": [
        {
          "output_type": "stream",
          "text": [
            "Model: \"model\"\n",
            "_________________________________________________________________\n",
            "Layer (type)                 Output Shape              Param #   \n",
            "=================================================================\n",
            "input_layer (InputLayer)     [(None, 224, 224, 3)]     0         \n",
            "_________________________________________________________________\n",
            "data_augument (Sequential)   (None, None, None, 3)     0         \n",
            "_________________________________________________________________\n",
            "efficientnetb0 (Functional)  (None, None, None, 1280)  4049571   \n",
            "_________________________________________________________________\n",
            "pooling_layers (GlobalAverag (None, 1280)              0         \n",
            "_________________________________________________________________\n",
            "output_layers (Dense)        (None, 10)                12810     \n",
            "=================================================================\n",
            "Total params: 4,062,381\n",
            "Trainable params: 12,810\n",
            "Non-trainable params: 4,049,571\n",
            "_________________________________________________________________\n"
          ],
          "name": "stdout"
        }
      ]
    },
    {
      "cell_type": "code",
      "metadata": {
        "colab": {
          "base_uri": "https://localhost:8080/"
        },
        "id": "SxZp8HX56r7z",
        "outputId": "b803ca2d-0651-41ea-a1da-c760d2f3c364"
      },
      "source": [
        "history_1_percent = model_1.fit(train_data,\n",
        "                    epochs=10,\n",
        "                    steps_per_epoch=len(train_data),\n",
        "                    validation_data=test_data,\n",
        "                    validation_steps=int(0.25 * len(test_data)),\n",
        "                    callbacks = [create_tensorboard_callback('transfer_learning', 'all_data_aug')]\n",
        "                    )"
      ],
      "execution_count": 16,
      "outputs": [
        {
          "output_type": "stream",
          "text": [
            "Lưu lại thông tin ở: transfer_learning/all_data_aug/20210320-141747\n",
            "Epoch 1/10\n",
            "235/235 [==============================] - 120s 354ms/step - loss: 1.4108 - accuracy: 0.5702 - val_loss: 0.5697 - val_accuracy: 0.8289\n",
            "Epoch 2/10\n",
            "235/235 [==============================] - 62s 262ms/step - loss: 0.6990 - accuracy: 0.7828 - val_loss: 0.4821 - val_accuracy: 0.8421\n",
            "Epoch 3/10\n",
            "235/235 [==============================] - 60s 252ms/step - loss: 0.6137 - accuracy: 0.8061 - val_loss: 0.4530 - val_accuracy: 0.8602\n",
            "Epoch 4/10\n",
            "235/235 [==============================] - 54s 230ms/step - loss: 0.5899 - accuracy: 0.8107 - val_loss: 0.4280 - val_accuracy: 0.8586\n",
            "Epoch 5/10\n",
            "235/235 [==============================] - 51s 214ms/step - loss: 0.5354 - accuracy: 0.8283 - val_loss: 0.4182 - val_accuracy: 0.8684\n",
            "Epoch 6/10\n",
            "235/235 [==============================] - 50s 213ms/step - loss: 0.5026 - accuracy: 0.8453 - val_loss: 0.4534 - val_accuracy: 0.8569\n",
            "Epoch 7/10\n",
            "235/235 [==============================] - 48s 202ms/step - loss: 0.4778 - accuracy: 0.8459 - val_loss: 0.3998 - val_accuracy: 0.8783\n",
            "Epoch 8/10\n",
            "235/235 [==============================] - 46s 196ms/step - loss: 0.4721 - accuracy: 0.8494 - val_loss: 0.4101 - val_accuracy: 0.8635\n",
            "Epoch 9/10\n",
            "235/235 [==============================] - 47s 199ms/step - loss: 0.4640 - accuracy: 0.8492 - val_loss: 0.3916 - val_accuracy: 0.8816\n",
            "Epoch 10/10\n",
            "235/235 [==============================] - 44s 186ms/step - loss: 0.4439 - accuracy: 0.8567 - val_loss: 0.3904 - val_accuracy: 0.8750\n"
          ],
          "name": "stdout"
        }
      ]
    },
    {
      "cell_type": "code",
      "metadata": {
        "id": "w1csZpUtfhM2",
        "colab": {
          "base_uri": "https://localhost:8080/"
        },
        "outputId": "caaf9c53-61f4-4728-cb4c-9b52b773e3a1"
      },
      "source": [
        "# số lớp(labels) có thể dự đoán được.\n",
        "class_name = train_data.class_names\n",
        "class_name"
      ],
      "execution_count": 17,
      "outputs": [
        {
          "output_type": "execute_result",
          "data": {
            "text/plain": [
              "['chicken_curry',\n",
              " 'chicken_wings',\n",
              " 'fried_rice',\n",
              " 'grilled_salmon',\n",
              " 'hamburger',\n",
              " 'ice_cream',\n",
              " 'pizza',\n",
              " 'ramen',\n",
              " 'steak',\n",
              " 'sushi']"
            ]
          },
          "metadata": {
            "tags": []
          },
          "execution_count": 17
        }
      ]
    },
    {
      "cell_type": "code",
      "metadata": {
        "colab": {
          "base_uri": "https://localhost:8080/"
        },
        "id": "gylbdcw7C1vn",
        "outputId": "d498537e-b1f6-4b96-9b9c-993df94d0663"
      },
      "source": [
        "# test model\n",
        "# load ảnh\n",
        "!wget https://img-global.cpcdn.com/recipes/249855c4b55f69ca/751x532cq70/hamburger-heo-bo-nha-lam-recipe-main-photo.jpg"
      ],
      "execution_count": 18,
      "outputs": [
        {
          "output_type": "stream",
          "text": [
            "--2021-03-20 14:37:04--  https://img-global.cpcdn.com/recipes/249855c4b55f69ca/751x532cq70/hamburger-heo-bo-nha-lam-recipe-main-photo.jpg\n",
            "Resolving img-global.cpcdn.com (img-global.cpcdn.com)... 151.101.2.132, 151.101.66.132, 151.101.130.132, ...\n",
            "Connecting to img-global.cpcdn.com (img-global.cpcdn.com)|151.101.2.132|:443... connected.\n",
            "HTTP request sent, awaiting response... 200 OK\n",
            "Length: 34551 (34K) [image/jpeg]\n",
            "Saving to: ‘hamburger-heo-bo-nha-lam-recipe-main-photo.jpg’\n",
            "\n",
            "\r          hamburger   0%[                    ]       0  --.-KB/s               \rhamburger-heo-bo-nh 100%[===================>]  33.74K  --.-KB/s    in 0.001s  \n",
            "\n",
            "2021-03-20 14:37:04 (57.5 MB/s) - ‘hamburger-heo-bo-nha-lam-recipe-main-photo.jpg’ saved [34551/34551]\n",
            "\n"
          ],
          "name": "stdout"
        }
      ]
    },
    {
      "cell_type": "code",
      "metadata": {
        "id": "tbsLH-cVEatH"
      },
      "source": [
        "# Xử lí lại ảnh\n",
        "hamburger_img = load_and_prep_img(\"hamburger-heo-bo-nha-lam-recipe-main-photo.jpg\")"
      ],
      "execution_count": 23,
      "outputs": []
    },
    {
      "cell_type": "code",
      "metadata": {
        "colab": {
          "base_uri": "https://localhost:8080/"
        },
        "id": "V79sp9CTFh33",
        "outputId": "e6b785da-3ab5-476c-b419-657d7b6b3994"
      },
      "source": [
        "hamburger_img"
      ],
      "execution_count": 24,
      "outputs": [
        {
          "output_type": "execute_result",
          "data": {
            "text/plain": [
              "<tf.Tensor: shape=(224, 224, 3), dtype=float32, numpy=\n",
              "array([[[162.55135 , 166.55135 , 167.55135 ],\n",
              "        [165.54031 , 169.54031 , 170.54031 ],\n",
              "        [163.76688 , 167.76688 , 168.76688 ],\n",
              "        ...,\n",
              "        [255.      , 255.      , 255.      ],\n",
              "        [255.      , 255.      , 255.      ],\n",
              "        [255.      , 255.      , 255.      ]],\n",
              "\n",
              "       [[167.9375  , 171.9375  , 174.9375  ],\n",
              "        [166.96693 , 170.96693 , 173.96693 ],\n",
              "        [166.9926  , 170.9926  , 173.9926  ],\n",
              "        ...,\n",
              "        [255.      , 255.      , 255.      ],\n",
              "        [255.      , 255.      , 255.      ],\n",
              "        [255.      , 255.      , 255.      ]],\n",
              "\n",
              "       [[167.07715 , 170.63965 , 174.51465 ],\n",
              "        [168.10645 , 171.66895 , 175.54395 ],\n",
              "        [168.86021 , 172.42271 , 176.29771 ],\n",
              "        ...,\n",
              "        [255.      , 255.      , 255.      ],\n",
              "        [255.      , 255.      , 255.      ],\n",
              "        [255.      , 255.      , 255.      ]],\n",
              "\n",
              "       ...,\n",
              "\n",
              "       [[101.23535 ,  96.23535 , 102.23535 ],\n",
              "        [100.529015,  95.529015, 101.529015],\n",
              "        [102.014786,  97.014786, 103.014786],\n",
              "        ...,\n",
              "        [250.      , 255.      , 255.      ],\n",
              "        [250.      , 255.      , 255.      ],\n",
              "        [250.      , 255.      , 255.      ]],\n",
              "\n",
              "       [[100.70969 ,  95.70969 , 101.70969 ],\n",
              "        [100.066124,  95.066124, 101.066124],\n",
              "        [103.61217 ,  98.61217 , 104.61217 ],\n",
              "        ...,\n",
              "        [250.      , 255.      , 255.      ],\n",
              "        [250.      , 255.      , 255.      ],\n",
              "        [250.      , 255.      , 255.      ]],\n",
              "\n",
              "       [[101.05511 ,  96.05511 , 102.05511 ],\n",
              "        [101.3125  ,  96.3125  , 102.3125  ],\n",
              "        [103.64509 ,  98.64509 , 104.64509 ],\n",
              "        ...,\n",
              "        [250.      , 255.      , 255.      ],\n",
              "        [250.      , 255.      , 255.      ],\n",
              "        [250.      , 255.      , 255.      ]]], dtype=float32)>"
            ]
          },
          "metadata": {
            "tags": []
          },
          "execution_count": 24
        }
      ]
    },
    {
      "cell_type": "code",
      "metadata": {
        "colab": {
          "base_uri": "https://localhost:8080/"
        },
        "id": "xq9KoKtVFkqR",
        "outputId": "fc8bb853-afb7-458a-f989-827feeb87d59"
      },
      "source": [
        "# mở rổng ảnh\n",
        "hamburger_expanded = tf.expand_dims(hamburger_img, axis=0) # mở rộng kích thước ảnh từ (224, 224, 3) --> (1, 224, 224, 3)\n",
        "predict = model_1.predict(hamburger_expanded)\n",
        "predict"
      ],
      "execution_count": 25,
      "outputs": [
        {
          "output_type": "execute_result",
          "data": {
            "text/plain": [
              "array([[2.0615580e-06, 1.1825097e-07, 8.6500813e-06, 7.2703160e-06,\n",
              "        9.9358338e-01, 6.3661477e-03, 2.0537625e-07, 4.0481515e-07,\n",
              "        7.2573306e-07, 3.0969870e-05]], dtype=float32)"
            ]
          },
          "metadata": {
            "tags": []
          },
          "execution_count": 25
        }
      ]
    },
    {
      "cell_type": "code",
      "metadata": {
        "colab": {
          "base_uri": "https://localhost:8080/",
          "height": 35
        },
        "id": "JayEh78nGZBr",
        "outputId": "e16ea50f-06af-43df-81b3-55dc77f9a6a2"
      },
      "source": [
        "# kiểm tra nó thuộc lớp nào\n",
        "class_name[tf.argmax(predict[0])]"
      ],
      "execution_count": 26,
      "outputs": [
        {
          "output_type": "execute_result",
          "data": {
            "application/vnd.google.colaboratory.intrinsic+json": {
              "type": "string"
            },
            "text/plain": [
              "'hamburger'"
            ]
          },
          "metadata": {
            "tags": []
          },
          "execution_count": 26
        }
      ]
    }
  ]
}