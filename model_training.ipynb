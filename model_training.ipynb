{
  "nbformat": 4,
  "nbformat_minor": 0,
  "metadata": {
    "colab": {
      "name": "model_training.ipynb",
      "provenance": [],
      "mount_file_id": "12ZLq9TV1T7_9YaDC5GiqOHN4FtEVAQzz",
      "authorship_tag": "ABX9TyOg6tDHVqGDxZ5284H0d7vF",
      "include_colab_link": true
    },
    "kernelspec": {
      "name": "python3",
      "display_name": "Python 3"
    }
  },
  "cells": [
    {
      "cell_type": "markdown",
      "metadata": {
        "id": "view-in-github",
        "colab_type": "text"
      },
      "source": [
        "<a href=\"https://colab.research.google.com/github/PTson2207/Deployment-Model-App/blob/main/model_training.ipynb\" target=\"_parent\"><img src=\"https://colab.research.google.com/assets/colab-badge.svg\" alt=\"Open In Colab\"/></a>"
      ]
    },
    {
      "cell_type": "markdown",
      "metadata": {
        "id": "39c1oovB7crR"
      },
      "source": [
        "Training someone model, then deploy ...\n",
        "\n",
        "- Want: Save_model and then upload Google Storage\n",
        "- Data: From Kaggle-Food 101\n",
        "- Model(s): 10, 11, 12 classes"
      ]
    },
    {
      "cell_type": "markdown",
      "metadata": {
        "id": "ogimD5Mv9PoP"
      },
      "source": [
        "Setup some Function"
      ]
    },
    {
      "cell_type": "code",
      "metadata": {
        "id": "z__jj4Zq7PmD"
      },
      "source": [
        "# library\n",
        "import numpy as np\n",
        "import pandas as pd\n",
        "import matplotlib.pyplot as plt\n",
        "import zipfile\n",
        "import tensorflow as tf\n",
        "from tensorflow import keras\n",
        "from tensorflow.keras import layers\n",
        "from tensorflow.keras.layers.experimental import preprocessing"
      ],
      "execution_count": 1,
      "outputs": []
    },
    {
      "cell_type": "code",
      "metadata": {
        "id": "FWUp2zRP_GfS"
      },
      "source": [
        "# Function unzip dowload_data file\n",
        "def unzip_data(file_name):\n",
        "    zip_ref = zipfile.ZipFile(file_name, 'r')\n",
        "    zip_ref.extractall()\n",
        "    zip_ref.close()"
      ],
      "execution_count": 2,
      "outputs": []
    },
    {
      "cell_type": "code",
      "metadata": {
        "id": "ExiNrsIDAcJu"
      },
      "source": [
        "# Setup dataset input\n",
        "IMG_SIZE = (224, 224)\n",
        "\n",
        "def create_data_loader(train_dir, test_dir, img_size=IMG_SIZE):\n",
        "    train_data = tf.keras.preprocessing.image_dataset_from_directory(train_dir,\n",
        "                                                                     label_mode=\"categorical\",\n",
        "                                                                     img_size=img_size)\n",
        "    \n",
        "    test_data = tf.keras.preprocessing.image_dataset_from_directory(test_dir,\n",
        "                                                                    label_mode=\"categorical\",\n",
        "                                                                    img_size=img_size)\n",
        "    return train_data, test_data"
      ],
      "execution_count": 3,
      "outputs": []
    },
    {
      "cell_type": "code",
      "metadata": {
        "id": "7Y_4f-X0e6SF"
      },
      "source": [
        "data_augument = keras.Sequential([\n",
        "                                  preprocessing.RandomFlip('horizontal'),\n",
        "                                  preprocessing.RandomRotation(0.2),\n",
        "                                  preprocessing.RandomHeight(0.2),\n",
        "                                  preprocessing.RandomWidth(0.2),\n",
        "                                  preprocessing.RandomZoom(0.2),\n",
        "                                  #preprocessing.Rescaling(1./255) # for Resnet50V2, removing for EfficientNetB0\n",
        "], name=\"data_augument\")"
      ],
      "execution_count": 5,
      "outputs": []
    }
  ]
}