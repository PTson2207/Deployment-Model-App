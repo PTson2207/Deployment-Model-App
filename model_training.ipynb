{
  "nbformat": 4,
  "nbformat_minor": 0,
  "metadata": {
    "colab": {
      "name": "model_training.ipynb",
      "provenance": [],
      "mount_file_id": "12ZLq9TV1T7_9YaDC5GiqOHN4FtEVAQzz",
      "authorship_tag": "ABX9TyNuMZGLvvi41CEN8JtGVpqc",
      "include_colab_link": true
    },
    "kernelspec": {
      "name": "python3",
      "display_name": "Python 3"
    },
    "accelerator": "GPU"
  },
  "cells": [
    {
      "cell_type": "markdown",
      "metadata": {
        "id": "view-in-github",
        "colab_type": "text"
      },
      "source": [
        "<a href=\"https://colab.research.google.com/github/PTson2207/Deployment-Model-App/blob/main/model_training.ipynb\" target=\"_parent\"><img src=\"https://colab.research.google.com/assets/colab-badge.svg\" alt=\"Open In Colab\"/></a>"
      ]
    },
    {
      "cell_type": "markdown",
      "metadata": {
        "id": "39c1oovB7crR"
      },
      "source": [
        "Training someone model, then deploy ...\n",
        "\n",
        "- Want: Save_model and then upload Google Storage\n",
        "- Data: From Kaggle-Food 101\n",
        "- Model(s): 10, 11, 12 classes"
      ]
    },
    {
      "cell_type": "code",
      "metadata": {
        "colab": {
          "base_uri": "https://localhost:8080/"
        },
        "id": "rI9v28rVeBdB",
        "outputId": "293ca55a-55c8-404c-f2dd-dacce3bc5573"
      },
      "source": [
        "! nvidia-smi"
      ],
      "execution_count": 1,
      "outputs": [
        {
          "output_type": "stream",
          "text": [
            "Sat Mar 20 07:16:34 2021       \n",
            "+-----------------------------------------------------------------------------+\n",
            "| NVIDIA-SMI 460.56       Driver Version: 460.32.03    CUDA Version: 11.2     |\n",
            "|-------------------------------+----------------------+----------------------+\n",
            "| GPU  Name        Persistence-M| Bus-Id        Disp.A | Volatile Uncorr. ECC |\n",
            "| Fan  Temp  Perf  Pwr:Usage/Cap|         Memory-Usage | GPU-Util  Compute M. |\n",
            "|                               |                      |               MIG M. |\n",
            "|===============================+======================+======================|\n",
            "|   0  Tesla T4            Off  | 00000000:00:04.0 Off |                    0 |\n",
            "| N/A   54C    P8    10W /  70W |      0MiB / 15109MiB |      0%      Default |\n",
            "|                               |                      |                  N/A |\n",
            "+-------------------------------+----------------------+----------------------+\n",
            "                                                                               \n",
            "+-----------------------------------------------------------------------------+\n",
            "| Processes:                                                                  |\n",
            "|  GPU   GI   CI        PID   Type   Process name                  GPU Memory |\n",
            "|        ID   ID                                                   Usage      |\n",
            "|=============================================================================|\n",
            "|  No running processes found                                                 |\n",
            "+-----------------------------------------------------------------------------+\n"
          ],
          "name": "stdout"
        }
      ]
    },
    {
      "cell_type": "markdown",
      "metadata": {
        "id": "ogimD5Mv9PoP"
      },
      "source": [
        "Setup some Function"
      ]
    },
    {
      "cell_type": "code",
      "metadata": {
        "id": "z__jj4Zq7PmD"
      },
      "source": [
        "# thư viện\n",
        "import numpy as np\n",
        "import pandas as pd\n",
        "import matplotlib.pyplot as plt\n",
        "import zipfile\n",
        "import tensorflow as tf\n",
        "from tensorflow import keras\n",
        "from tensorflow.keras import layers\n",
        "from tensorflow.keras.layers.experimental import preprocessing"
      ],
      "execution_count": 2,
      "outputs": []
    },
    {
      "cell_type": "code",
      "metadata": {
        "id": "FWUp2zRP_GfS"
      },
      "source": [
        "# Hàm unzip dowload_data file\n",
        "\n",
        "def unzip_data(file_name):\n",
        "    zip_ref = zipfile.ZipFile(file_name, 'r')\n",
        "    zip_ref.extractall()\n",
        "    zip_ref.close()"
      ],
      "execution_count": 3,
      "outputs": []
    },
    {
      "cell_type": "code",
      "metadata": {
        "id": "ExiNrsIDAcJu"
      },
      "source": [
        "# Setup dataset input\n",
        "IMG_SIZE = (224, 224)\n",
        "\n",
        "def create_data_loader(train_dir, test_dir, img_size=IMG_SIZE):\n",
        "    train_data = tf.keras.preprocessing.image_dataset_from_directory(train_dir,\n",
        "                                                                     label_mode=\"categorical\",\n",
        "                                                                     image_size=img_size)\n",
        "    \n",
        "    test_data = tf.keras.preprocessing.image_dataset_from_directory(test_dir,\n",
        "                                                                    label_mode=\"categorical\",\n",
        "                                                                    image_size=img_size)\n",
        "    return train_data, test_data"
      ],
      "execution_count": 4,
      "outputs": []
    },
    {
      "cell_type": "code",
      "metadata": {
        "id": "7Y_4f-X0e6SF"
      },
      "source": [
        "data_augument = keras.Sequential([\n",
        "                                  preprocessing.RandomFlip('horizontal'),\n",
        "                                  preprocessing.RandomRotation(0.2),\n",
        "                                  preprocessing.RandomHeight(0.2),\n",
        "                                  preprocessing.RandomWidth(0.2),\n",
        "                                  preprocessing.RandomZoom(0.2),\n",
        "                                  #preprocessing.Rescaling(1./255) # cho Resnet50V2, không cần thiết với EfficientNetB0\n",
        "], name=\"data_augument\")"
      ],
      "execution_count": 5,
      "outputs": []
    },
    {
      "cell_type": "code",
      "metadata": {
        "id": "XR12EEfSkd9y"
      },
      "source": [
        "# setup input_shape and base_model\n",
        "INPUT_SHAPE = (224, 224, 3)\n",
        "BASE_MODEL = tf.keras.applications.EfficientNetB0(include_top=False)"
      ],
      "execution_count": 6,
      "outputs": []
    },
    {
      "cell_type": "code",
      "metadata": {
        "id": "OlpZhhzPlLwo"
      },
      "source": [
        "def create_model(input_shape=INPUT_SHAPE, base_model=BASE_MODEL, num_classes=10):\n",
        "    # Fine tune model\n",
        "    base_model.trainable = False\n",
        "    # tạo layers\n",
        "    inputs = layers.Input(shape=INPUT_SHAPE, name=\"input_layer\")\n",
        "    # thêm data_augument như một layer\n",
        "    x = data_augument(inputs)\n",
        "    # give model inputs (after augument) nhưng không train\n",
        "    x = base_model(x, training= False)\n",
        "    # Pool layer\n",
        "    x = layers.GlobalAveragePooling2D(name='pooling_layers')(x)\n",
        "    # put a dense layer as a out_put\n",
        "    outputs = layers.Dense(num_classes, activation='softmax', name='output_layers')(x)\n",
        "\n",
        "    # model từ input và output\n",
        "    model = keras.Model(inputs, outputs)\n",
        "\n",
        "    model.compile(loss=\"categorical_crossentropy\",\n",
        "                  optimizer=tf.keras.optimizers.Adam(),\n",
        "                  metrics=['accuracy'])\n",
        "    model.summary()\n",
        "\n",
        "    return model"
      ],
      "execution_count": 7,
      "outputs": []
    },
    {
      "cell_type": "code",
      "metadata": {
        "id": "_gd_dX4NMpJE"
      },
      "source": [
        "# Hàm import ảnh và resize ảnh\n",
        "def load_and_prep_img(filename, img_shape=224, scale=False):\n",
        "    # đọc ảnh\n",
        "    img = tf.io.read_file(file_name)\n",
        "    # dịch ảnh sang tensor unit8\n",
        "    img = tf.image.decode_jpeg(img)\n",
        "    # thay đổi kích thước ảnh\n",
        "    img = tf.image.resize(img, [img_shape, img_shape])\n",
        "    # đổi giá trị ảnh về giữa đoạn 0 đến 1\n",
        "    if scale:\n",
        "        return img/255\n",
        "    else:\n",
        "        return img"
      ],
      "execution_count": 8,
      "outputs": []
    },
    {
      "cell_type": "markdown",
      "metadata": {
        "id": "nlZiPbfoPX5y"
      },
      "source": [
        "Download Data"
      ]
    },
    {
      "cell_type": "code",
      "metadata": {
        "colab": {
          "base_uri": "https://localhost:8080/"
        },
        "id": "Jmpjp_2iPbEw",
        "outputId": "7e431c32-b326-4124-bca5-a46388dac99f"
      },
      "source": [
        "!wget https://storage.googleapis.com/ztm_tf_course/food_vision/10_food_classes_all_data.zip\n",
        "\n",
        "unzip_data(\"10_food_classes_all_data.zip\")"
      ],
      "execution_count": 9,
      "outputs": [
        {
          "output_type": "stream",
          "text": [
            "--2021-03-20 07:16:38--  https://storage.googleapis.com/ztm_tf_course/food_vision/10_food_classes_all_data.zip\n",
            "Resolving storage.googleapis.com (storage.googleapis.com)... 74.125.20.128, 74.125.195.128, 74.125.142.128, ...\n",
            "Connecting to storage.googleapis.com (storage.googleapis.com)|74.125.20.128|:443... connected.\n",
            "HTTP request sent, awaiting response... 200 OK\n",
            "Length: 519183241 (495M) [application/zip]\n",
            "Saving to: ‘10_food_classes_all_data.zip.2’\n",
            "\n",
            "10_food_classes_all 100%[===================>] 495.13M   214MB/s    in 2.3s    \n",
            "\n",
            "2021-03-20 07:16:40 (214 MB/s) - ‘10_food_classes_all_data.zip.2’ saved [519183241/519183241]\n",
            "\n"
          ],
          "name": "stdout"
        }
      ]
    },
    {
      "cell_type": "code",
      "metadata": {
        "colab": {
          "base_uri": "https://localhost:8080/"
        },
        "id": "q1pm0C5rRbxf",
        "outputId": "f3d35cc7-f218-4343-d3c4-1efb074229ad"
      },
      "source": [
        "# có bao nhiêu ảnh trong mỗi folder ?\n",
        "import os\n",
        "\n",
        "for dirpath, dirnames, filenames in os.walk(\"10_food_classes_all_data\"):\n",
        "    print(f\"Có {len(dirnames)} thư mục con và có {len(filenames)} ảnh trong thư mục '{dirpath}'.\")"
      ],
      "execution_count": 10,
      "outputs": [
        {
          "output_type": "stream",
          "text": [
            "Có 2 thư mục con và có 0 ảnh trong thư mục '10_food_classes_all_data'.\n",
            "Có 10 thư mục con và có 0 ảnh trong thư mục '10_food_classes_all_data/test'.\n",
            "Có 0 thư mục con và có 250 ảnh trong thư mục '10_food_classes_all_data/test/hamburger'.\n",
            "Có 0 thư mục con và có 250 ảnh trong thư mục '10_food_classes_all_data/test/sushi'.\n",
            "Có 0 thư mục con và có 250 ảnh trong thư mục '10_food_classes_all_data/test/chicken_wings'.\n",
            "Có 0 thư mục con và có 250 ảnh trong thư mục '10_food_classes_all_data/test/fried_rice'.\n",
            "Có 0 thư mục con và có 250 ảnh trong thư mục '10_food_classes_all_data/test/pizza'.\n",
            "Có 0 thư mục con và có 250 ảnh trong thư mục '10_food_classes_all_data/test/ice_cream'.\n",
            "Có 0 thư mục con và có 250 ảnh trong thư mục '10_food_classes_all_data/test/steak'.\n",
            "Có 0 thư mục con và có 250 ảnh trong thư mục '10_food_classes_all_data/test/ramen'.\n",
            "Có 0 thư mục con và có 250 ảnh trong thư mục '10_food_classes_all_data/test/chicken_curry'.\n",
            "Có 0 thư mục con và có 250 ảnh trong thư mục '10_food_classes_all_data/test/grilled_salmon'.\n",
            "Có 10 thư mục con và có 0 ảnh trong thư mục '10_food_classes_all_data/train'.\n",
            "Có 0 thư mục con và có 750 ảnh trong thư mục '10_food_classes_all_data/train/hamburger'.\n",
            "Có 0 thư mục con và có 750 ảnh trong thư mục '10_food_classes_all_data/train/sushi'.\n",
            "Có 0 thư mục con và có 750 ảnh trong thư mục '10_food_classes_all_data/train/chicken_wings'.\n",
            "Có 0 thư mục con và có 750 ảnh trong thư mục '10_food_classes_all_data/train/fried_rice'.\n",
            "Có 0 thư mục con và có 750 ảnh trong thư mục '10_food_classes_all_data/train/pizza'.\n",
            "Có 0 thư mục con và có 750 ảnh trong thư mục '10_food_classes_all_data/train/ice_cream'.\n",
            "Có 0 thư mục con và có 750 ảnh trong thư mục '10_food_classes_all_data/train/steak'.\n",
            "Có 0 thư mục con và có 750 ảnh trong thư mục '10_food_classes_all_data/train/ramen'.\n",
            "Có 0 thư mục con và có 750 ảnh trong thư mục '10_food_classes_all_data/train/chicken_curry'.\n",
            "Có 0 thư mục con và có 750 ảnh trong thư mục '10_food_classes_all_data/train/grilled_salmon'.\n"
          ],
          "name": "stdout"
        }
      ]
    },
    {
      "cell_type": "code",
      "metadata": {
        "id": "m1rSM8DaW1o1"
      },
      "source": [
        "# hàm tạo nhằm mục đích load lại mỗi khi chạy mới mô hình\n",
        "import datetime\n",
        "\n",
        "def create_tensorboard_callback(dir_name, experiment_name):\n",
        "    log_dir = dir_name + \"/\" + experiment_name + \"/\" + datetime.datetime.now().strftime(\"%Y%m%d-%H%M%S\")\n",
        "    tensorboard_callback = tf.keras.callbacks.TensorBoard(\n",
        "                log_dir=log_dir\n",
        "    )\n",
        "    print(f\"Lưu lại thông tin ở: {log_dir}\")\n",
        "    return tensorboard_callback"
      ],
      "execution_count": 11,
      "outputs": []
    },
    {
      "cell_type": "markdown",
      "metadata": {
        "id": "4sU3aqLxYNva"
      },
      "source": [
        "    Vì ta có khả năng có thể chạy lại model nhiều lần, vì thế ta có thể theo dõi chúng theo một cách nào đó.\n",
        "    Hàm trên lưu lại nhật kí hiệu suất mô hình ở thư mục: [dir_name]/[experiment_name]/[current_timestamp]:\n",
        "    - dir_name:  thư mục lưu lại nhật kí tổng thể.\n",
        "    - experiment_name: thử nghiệm cụ thể.\n",
        "    - current_timestamp: thời gian thử nghiệm chi tiết."
      ]
    },
    {
      "cell_type": "markdown",
      "metadata": {
        "id": "4573rtDua7CT"
      },
      "source": [
        "Model 1 (10 classes)"
      ]
    },
    {
      "cell_type": "code",
      "metadata": {
        "colab": {
          "base_uri": "https://localhost:8080/"
        },
        "id": "lvz0Lgm4a-y8",
        "outputId": "89284636-daf3-48e1-bc9b-e6fc5a647068"
      },
      "source": [
        "train_data, test_data = create_data_loader(train_dir=\"10_food_classes_all_data/train/\",\n",
        "                                           test_dir=\"10_food_classes_all_data/test/\")"
      ],
      "execution_count": 12,
      "outputs": [
        {
          "output_type": "stream",
          "text": [
            "Found 7500 files belonging to 10 classes.\n",
            "Found 2500 files belonging to 10 classes.\n"
          ],
          "name": "stdout"
        }
      ]
    },
    {
      "cell_type": "code",
      "metadata": {
        "colab": {
          "base_uri": "https://localhost:8080/"
        },
        "id": "xHigYMlTcaKl",
        "outputId": "d302bc0c-122e-4546-809a-797ffd30f0b6"
      },
      "source": [
        "# xem kích cỡ dataset\n",
        "print(train_data)\n",
        "len(train_data)"
      ],
      "execution_count": 13,
      "outputs": [
        {
          "output_type": "stream",
          "text": [
            "<BatchDataset shapes: ((None, 224, 224, 3), (None, 10)), types: (tf.float32, tf.float32)>\n"
          ],
          "name": "stdout"
        },
        {
          "output_type": "execute_result",
          "data": {
            "text/plain": [
              "235"
            ]
          },
          "metadata": {
            "tags": []
          },
          "execution_count": 13
        }
      ]
    },
    {
      "cell_type": "code",
      "metadata": {
        "colab": {
          "base_uri": "https://localhost:8080/"
        },
        "id": "bwqUgSBJVl1o",
        "outputId": "90b06eb8-5b61-4f4a-987e-64e01eb828e2"
      },
      "source": [
        "print(test_data)\n",
        "len(test_data)"
      ],
      "execution_count": 14,
      "outputs": [
        {
          "output_type": "stream",
          "text": [
            "<BatchDataset shapes: ((None, 224, 224, 3), (None, 10)), types: (tf.float32, tf.float32)>\n"
          ],
          "name": "stdout"
        },
        {
          "output_type": "execute_result",
          "data": {
            "text/plain": [
              "79"
            ]
          },
          "metadata": {
            "tags": []
          },
          "execution_count": 14
        }
      ]
    },
    {
      "cell_type": "code",
      "metadata": {
        "colab": {
          "base_uri": "https://localhost:8080/"
        },
        "id": "nOP5zIrrchX-",
        "outputId": "67ef6058-57d7-44bc-be85-3c75d6b543f2"
      },
      "source": [
        "# call model\n",
        "model_1 = create_model(num_classes=len(train_data.class_names))"
      ],
      "execution_count": 15,
      "outputs": [
        {
          "output_type": "stream",
          "text": [
            "Model: \"model\"\n",
            "_________________________________________________________________\n",
            "Layer (type)                 Output Shape              Param #   \n",
            "=================================================================\n",
            "input_layer (InputLayer)     [(None, 224, 224, 3)]     0         \n",
            "_________________________________________________________________\n",
            "data_augument (Sequential)   (None, None, None, 3)     0         \n",
            "_________________________________________________________________\n",
            "efficientnetb0 (Functional)  (None, None, None, 1280)  4049571   \n",
            "_________________________________________________________________\n",
            "pooling_layers (GlobalAverag (None, 1280)              0         \n",
            "_________________________________________________________________\n",
            "output_layers (Dense)        (None, 10)                12810     \n",
            "=================================================================\n",
            "Total params: 4,062,381\n",
            "Trainable params: 12,810\n",
            "Non-trainable params: 4,049,571\n",
            "_________________________________________________________________\n"
          ],
          "name": "stdout"
        }
      ]
    },
    {
      "cell_type": "code",
      "metadata": {
        "colab": {
          "base_uri": "https://localhost:8080/"
        },
        "id": "SxZp8HX56r7z",
        "outputId": "f0aba630-a1c7-4461-b3a6-19c3c45238c2"
      },
      "source": [
        "history_1_percent = model_1.fit(train_data,\n",
        "                    epochs=5,\n",
        "                    steps_per_epoch=len(train_data),\n",
        "                    validation_data=test_data,\n",
        "                    validation_steps=int(0.25 * len(test_data)),\n",
        "                    callbacks = [create_tensorboard_callback('transfer_learning', 'all_data_aug')]\n",
        "                    )"
      ],
      "execution_count": 17,
      "outputs": [
        {
          "output_type": "stream",
          "text": [
            "Lưu lại thông tin ở: transfer_learning/all_data_aug/20210320-071806\n",
            "Epoch 1/5\n",
            "235/235 [==============================] - 115s 342ms/step - loss: 1.0734 - accuracy: 0.6804 - val_loss: 0.5344 - val_accuracy: 0.8421\n",
            "Epoch 2/5\n",
            "235/235 [==============================] - 65s 275ms/step - loss: 0.6891 - accuracy: 0.7903 - val_loss: 0.4349 - val_accuracy: 0.8618\n",
            "Epoch 3/5\n",
            "235/235 [==============================] - 58s 244ms/step - loss: 0.6105 - accuracy: 0.8060 - val_loss: 0.4051 - val_accuracy: 0.8635\n",
            "Epoch 4/5\n",
            "235/235 [==============================] - 54s 228ms/step - loss: 0.5706 - accuracy: 0.8171 - val_loss: 0.4104 - val_accuracy: 0.8651\n",
            "Epoch 5/5\n",
            "235/235 [==============================] - 53s 225ms/step - loss: 0.5428 - accuracy: 0.8275 - val_loss: 0.4084 - val_accuracy: 0.8635\n"
          ],
          "name": "stdout"
        }
      ]
    },
    {
      "cell_type": "code",
      "metadata": {
        "id": "w1csZpUtfhM2"
      },
      "source": [
        ""
      ],
      "execution_count": null,
      "outputs": []
    }
  ]
}